{
 "cells": [
  {
   "cell_type": "code",
   "execution_count": 2,
   "metadata": {},
   "outputs": [
    {
     "name": "stdout",
     "output_type": "stream",
     "text": [
      "Status 200\n"
     ]
    },
    {
     "data": {
      "text/markdown": [
       "# Fossil hunting\n",
       "\n",
       "We have some fossil abundance data. Each record contains a number, which represents a geological age, and zero or more fossil symbols. One symbol represents one example of that fossil. For example, we might have a record like this:\n",
       "\n",
       "    349.8🦐🐚🐚🐟🐟🦐\n",
       "    \n",
       "The number is the age of the sample in units of 'millions of years before the present', to 4 significant figures, and is unique (there are no duplicate records). It is immediately followed by the fossil counts for that sample. For example, this record indicates that the samples collected from rocks with age = 349.8 Ma contained two shrimps, two gastropod shells, and two fish specimens.\n",
       "\n",
       "Your actual dataset will be much larger than this. It's also less organized: the records are not in order.\n",
       "\n",
       "There are four questions to answer about your data:\n",
       "\n",
       "1. How many samples are there of the most abundant organism?\n",
       "2. What is the age of the oldest record with maximum diversity?\n",
       "3. What is the span (first to last appearance) of the most abundant organism?\n",
       "4. At what age is the latest appearance of the last fossil to appear?\n",
       "\n",
       "When the answer is an age, give 1 decimal place of precision.\n",
       "\n",
       "\n",
       "## Example\n",
       "\n",
       "    345.1🐟\n",
       "    346.2🐚🐚🐟\n",
       "    348.7🐚🦐\n",
       "    349.8🦐🐚🐚🐟🐟🦐\n",
       "    350.0🐚🦐🦐🐚🦐🦐\n",
       "    351.7🦐🐟🦐\n",
       "    353.8🦐\n",
       "    354.9\n",
       "\n",
       "We'd answer the questions this way:\n",
       "\n",
       "1. The most abundant organism is the shrimp, with **10** specimens.\n",
       "2. The oldest record with the maximum diversity (3 fossil types) is **349.8**\n",
       "3. The span of the most abundant organism (the shrimp) is 353.8 - 348.7 = **5.1**\n",
       "4. The last fossil to appear (the shell) last appears at an age of **346.2**\n",
       "\n",
       "\n",
       "## A quick reminder how this works\n",
       "\n",
       "You can retrieve your data by choosing any Python string as a **`<KEY>`** and substituting here:\n",
       "\n",
       "    https://kata.geosci.ai/challenge/fossil-hunting?key=<KEY>\n",
       "                                                        ^^^^^\n",
       "                                                        any old string you like\n",
       "\n",
       "To answer question 1, make a request like:\n",
       "\n",
       "    https://kata.geosci.ai/challenge/fossil-hunting?key=<KEY>&question=1&answer=123\n",
       "                                                        ^^^^^          ^        ^^^\n",
       "                                                        your key       Q        your answer\n",
       "\n",
       "[Complete instructions at kata.geosci.ai](https://kata.geosci.ai/challenge)\n",
       "\n",
       "----\n",
       "\n",
       "© 2020 Agile Scientific, licensed CC-BY"
      ],
      "text/plain": [
       "<IPython.core.display.Markdown object>"
      ]
     },
     "execution_count": 2,
     "metadata": {},
     "output_type": "execute_result"
    }
   ],
   "source": [
    "import requests\n",
    "from IPython.display import Markdown\n",
    "\n",
    "url = 'https://kata.geosci.ai/challenge/fossil-hunting'\n",
    "\n",
    "r = requests.get(url)\n",
    "print('Status', r.status_code)\n",
    "\n",
    "Markdown(r.text)"
   ]
  },
  {
   "cell_type": "markdown",
   "metadata": {},
   "source": [
    "## Load the input data"
   ]
  },
  {
   "cell_type": "code",
   "execution_count": 4,
   "metadata": {},
   "outputs": [
    {
     "data": {
      "text/plain": [
       "'127.7🐟🐟🌟🐟🐟🐟🐟🐟🐟🌟🐟🐟🌟🐟🐟🌟322.0\\U0001f9a0\\U0001f9a0\\U0001f9a0\\U0001f9a0\\U0001f9a0\\U0001f9a0🐠🐠🐠\\U0001f9a0179.2🐟🐟🐟🐟🐟🌿🐟🌟🌟🌿🌟🐟🌟🐟🐟🐟🐟🐟🌿🐟🌟🐟🐟🌟🌟🌟🐟🐟\\U0001f990🐟🌟🐟🌟🐟🌟🦄🌟\\U0001f990\\U0001f990🐟🐟🌟🌟🌟🌟🦄🌿🌟🦄🌟🐟🐟🌟🦄\\U0001f990🐟🐟🌿🌟🐟258.4\\U0001f990🐚🐠🌿🐚🌿🐚🐠🐚🐚🐠🐚\\U0001f990🌿🌿🐠🌿🐚\\U0001f990\\U0001f990🌿🐚\\U0001f990🐚🐚🐠🐠🐚\\U0001f990🐚\\U0001f990🌿🐚🐚🐚🌿🌿🌿🐠🐠🐠🌿\\U0001f990\\U0001f990\\U0001f990🐚🐚273.4\\U0001f9a0🐚🐚🌿\\U0001f990\\U0001f9a0🐚\\U0001f990🐠\\U0001f990🐚🐚🐚🐠\\U0001f990🐚🐠🐠\\U0001f990\\U0001f9a0🐠\\U0001f990🐠🐚🐚🐚\\U0001f990🐠\\U0001f990🐠🐚🐚🐚🐚🐚🐚🐚\\U0001f990🐠\\U0001f990🐚\\U0001f9a0'"
      ]
     },
     "execution_count": 4,
     "metadata": {},
     "output_type": "execute_result"
    }
   ],
   "source": [
    "my_key = 'scibbatical'\n",
    "\n",
    "params = {'key': my_key}\n",
    "\n",
    "r = requests.get(url, params)\n",
    "\n",
    "# Look at the first bit of the input:\n",
    "r.text[:200]"
   ]
  },
  {
   "cell_type": "code",
   "execution_count": null,
   "metadata": {},
   "outputs": [],
   "source": []
  },
  {
   "cell_type": "code",
   "execution_count": null,
   "metadata": {},
   "outputs": [],
   "source": []
  },
  {
   "cell_type": "code",
   "execution_count": null,
   "metadata": {},
   "outputs": [],
   "source": []
  },
  {
   "cell_type": "code",
   "execution_count": null,
   "metadata": {},
   "outputs": [],
   "source": []
  },
  {
   "cell_type": "code",
   "execution_count": null,
   "metadata": {},
   "outputs": [],
   "source": []
  },
  {
   "cell_type": "code",
   "execution_count": null,
   "metadata": {},
   "outputs": [],
   "source": []
  },
  {
   "cell_type": "markdown",
   "metadata": {},
   "source": [
    "Submit answer 1:"
   ]
  },
  {
   "cell_type": "code",
   "execution_count": null,
   "metadata": {},
   "outputs": [],
   "source": [
    "params = {'key': my_key,   # <--- must be the same key as before\n",
    "          'question': 1,   # <--- which question you're answering\n",
    "          'answer': answer1,  # <--- your answer to that question\n",
    "         }\n",
    "\n",
    "r = requests.get(url, params)\n",
    "\n",
    "r.text"
   ]
  }
 ],
 "metadata": {
  "kernelspec": {
   "display_name": "Python 3",
   "language": "python",
   "name": "python3"
  },
  "language_info": {
   "codemirror_mode": {
    "name": "ipython",
    "version": 3
   },
   "file_extension": ".py",
   "mimetype": "text/x-python",
   "name": "python",
   "nbconvert_exporter": "python",
   "pygments_lexer": "ipython3",
   "version": "3.5.6"
  }
 },
 "nbformat": 4,
 "nbformat_minor": 4
}
