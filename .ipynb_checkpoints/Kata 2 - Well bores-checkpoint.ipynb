{
 "cells": [
  {
   "cell_type": "code",
   "execution_count": 2,
   "metadata": {
    "collapsed": false
   },
   "outputs": [
    {
     "name": "stdout",
     "output_type": "stream",
     "text": [
      "Status 200\n"
     ]
    },
    {
     "data": {
      "text/markdown": [
       "# Challenge: Boreholes\n",
       "\n",
       "You have a list of boreholes. Each one has an (x, y) location. The locations are given as a Python string, and look like this:\n",
       "\n",
       "    ..., (12.1, 34.3), (56.5, 78.7), (90.9, 12.1),...\n",
       "    \n",
       "Your data, when you receive it, will be longer than this.\n",
       "    \n",
       "We're going to analyse these locations. We need the answers to the following questions:\n",
       "        \n",
       "1. How many boreholes are there? We'll call this number _n_.\n",
       "2. What's the distance, **to the nearest metre** between the first two boreholes in the list?\n",
       "3. What is the mean straight-line distance between all pairs of boreholes **to the nearest metre**? Call this _m_.\n",
       "4. There is a clump of boreholes. How many boreholes are in the clump? (A borehole is defined to be in a clump if the mean distance to its nearest _n_ / 5 neighbours is _m_ / 4 or less.)\n",
       "\n",
       "Please note that all your answers must be integers. If you get a float for an answer, round it.\n",
       "\n",
       "\n",
       "## Example\n",
       "\n",
       "Here are the locations of some boreholes:\n",
       "\n",
       "      (1, 4), (5, 4), (9, 3), (2, 8), (6, 4), (9, 9), (5, 5), (4, 3), (4, 5), (2, 1)\n",
       "      \n",
       "If we plot them, they look like this:\n",
       "\n",
       "    y\n",
       "    ^\n",
       "    9 - - - - - - - - - 0\n",
       "    8 - - 0 - - - - - - -\n",
       "    7 - - - - - - - - - -\n",
       "    6 - - - - - - - - - -\n",
       "    5 - - - - 0 0 - - - -\n",
       "    4 - 0 - - - 0 0 - - -\n",
       "    3 - - - - 0 - - - - 0\n",
       "    2 - - - - - - - - - -\n",
       "    1 - - 0 - - - - - - -\n",
       "    0 - - - - - - - - - -\n",
       "      0 1 2 3 4 5 6 7 8 9 > x\n",
       "    \n",
       "Here's how we'd answer the questions for this small dataset:\n",
       "\n",
       "- In this example, there are **10** wells (marked `0` on the plot above).\n",
       "- The distance between the first two boreholes in the list, (1, 4) and (5, 4), is **4**.\n",
       "- The mean distance between boreholes is 4.58... which to the nearest metre is **5**.\n",
       "- There are **4** wells in the clump. See below.\n",
       "\n",
       "Wells in the clump are marked `X` here (the borehole marked `O` does not meet the criterion):\n",
       "\n",
       "    y\n",
       "    ^\n",
       "    9 - - - - - - - - - 0\n",
       "    8 - - 0 - - - - - - -\n",
       "    7 - - - - - - - - - -\n",
       "    6 - - - - - - - - - -\n",
       "    5 - - - - X X - - - -\n",
       "    4 - 0 - - - X X - - -\n",
       "    3 - - - - O - - - - 0\n",
       "    2 - - - - - - - - - -\n",
       "    1 - - 0 - - - - - - -\n",
       "    0 - - - - - - - - - -\n",
       "      0 1 2 3 4 5 6 7 8 9 > x\n",
       "\n",
       "\n",
       "## A quick reminder how this works\n",
       "\n",
       "You can retrieve your data by choosing any Python string as a **`<KEY>`** and substituting here:\n",
       "    \n",
       "    https://kata.geosci.ai/challenge/boreholes?key=<KEY>\n",
       "                                                   ^^^^^\n",
       "                                                   use your own string here\n",
       "\n",
       "To answer question 1, make a request like:\n",
       "\n",
       "    https://kata.geosci.ai/challenge/boreholes?key=<KEY>&question=1&answer=1234\n",
       "                                                   ^^^^^          ^        ^^^^\n",
       "                                                   your key       Q        your answer\n",
       "\n",
       "[Complete instructions at kata.geosci.ai](https://kata.geosci.ai/challenge)\n",
       "\n",
       "----\n",
       "\n",
       "© 2020 Agile Scientific, licensed CC-BY"
      ],
      "text/plain": [
       "<IPython.core.display.Markdown object>"
      ]
     },
     "execution_count": 2,
     "metadata": {},
     "output_type": "execute_result"
    }
   ],
   "source": [
    "import requests\n",
    "from IPython.display import Markdown\n",
    "\n",
    "url = 'https://kata.geosci.ai/challenge/boreholes'\n",
    "\n",
    "r = requests.get(url)\n",
    "print('Status', r.status_code)\n",
    "\n",
    "Markdown(r.text)"
   ]
  },
  {
   "cell_type": "markdown",
   "metadata": {},
   "source": [
    "## Load my input\n",
    "\n",
    "Okay, let's get an input for our problem. I'll use a \"key\":"
   ]
  },
  {
   "cell_type": "code",
   "execution_count": 8,
   "metadata": {
    "collapsed": false
   },
   "outputs": [
    {
     "data": {
      "text/plain": [
       "'(16736.45, 10471.65), (18443.86, 47.41), (10702.08, 18033.28), (15015.61, 22452.92), (2537.61, 12254'"
      ]
     },
     "execution_count": 8,
     "metadata": {},
     "output_type": "execute_result"
    }
   ],
   "source": [
    "my_key = \"scibbatical\"\n",
    "\n",
    "params = {'key': my_key}\n",
    "\n",
    "r = requests.get(url, params)\n",
    "\n",
    "# Look at the first bit of the input:\n",
    "r.text[:100]"
   ]
  },
  {
   "cell_type": "code",
   "execution_count": null,
   "metadata": {
    "collapsed": true
   },
   "outputs": [],
   "source": []
  }
 ],
 "metadata": {
  "anaconda-cloud": {},
  "kernelspec": {
   "display_name": "Python [default]",
   "language": "python",
   "name": "python3"
  },
  "language_info": {
   "codemirror_mode": {
    "name": "ipython",
    "version": 3
   },
   "file_extension": ".py",
   "mimetype": "text/x-python",
   "name": "python",
   "nbconvert_exporter": "python",
   "pygments_lexer": "ipython3",
   "version": "3.5.5"
  }
 },
 "nbformat": 4,
 "nbformat_minor": 1
}
