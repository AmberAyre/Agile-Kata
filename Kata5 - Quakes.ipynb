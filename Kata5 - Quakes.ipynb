{
 "cells": [
  {
   "cell_type": "code",
   "execution_count": 1,
   "metadata": {},
   "outputs": [
    {
     "name": "stdout",
     "output_type": "stream",
     "text": [
      "Status 200\n"
     ]
    },
    {
     "data": {
      "text/markdown": [
       "# Birthquakes\n",
       "\n",
       "We are going to look at earthquakes, on your birthdate. Birthquakes!\n",
       "\n",
       "We will also be implementing the haversine formula for determining the distance between two ponts on the earth's surface.\n",
       "\n",
       "This challenge is a bit different from the previous ones. You can use any old string for your key, as usual, but if you use a date, you'll get data for that date. For example:\n",
       "\n",
       "      url = 'https://kata.geosci.ai/challenge/birthquakes'\n",
       "      params = {'key': '1980-06-30'}  # <-- The key can be a date.\n",
       "      r = requests.get(url, params)\n",
       "\n",
       "Your challenge input is now `r.text`. There is a header row containing the names of the columns, plus a number of data rows or 'records'. Each row has 13 columns, and represents the data for a single earthquake.\n",
       "\n",
       "You need to answer the following questions:\n",
       "\n",
       "1. How many records (i.e. earthquakes) are there?\n",
       "2. What is the depth **in metres** of the earthquake with the largest **Magnitude**?\n",
       "3. What is the great circle distance **to the nearest km**, as given by the haversine formula, between the epicentres of the two **largest** earthquakes, as measured by magnitude?\n",
       "4. Consider all pairs of events. How many pairs are within 100 km of each other?\n",
       "\n",
       "Note that because we're asking about epicentres, so you don't need to worry about depth when calculating great circle distances.\n",
       "\n",
       "For Question 4, only count unique pairs. For example, inthe diagram below there are 15 pairs of points altogether, of which there are 7 pairs with a mutual distance of <100 km here &mdash; 1 pair on the left and 6 on the right:\n",
       "\n",
       "      \n",
       "      x                  x\n",
       "                            x\n",
       "         x              x  x\n",
       "            ==========\n",
       "              100 km\n",
       "\n",
       "\n",
       "## Haversine formula\n",
       "\n",
       "There are several formulas for computing [great circle distance](https://en.wikipedia.org/wiki/Great-circle_distance) on a sphere. The simplest accurate one is the haversine formula, which is described here.\n",
       "\n",
       "Given two points with (_latitude_, _longitude_), we'll denote point 1 with $(\\varphi_1, \\lambda_1)$ and point 2 with $(\\varphi_2, \\lambda_2)$. Then distance _d_ is related to radius _r_ by:\n",
       "\n",
       "$$   d  = 2r \\arcsin\\left(\\sqrt{\\sin^2\\left(\\frac{\\varphi_2 - \\varphi_1}{2}\\right) + \\cos(\\varphi_1) \\cos(\\varphi_2)\\sin^2\\left(\\frac{\\lambda_2 - \\lambda_1}{2}\\right)}\\right)$$\n",
       "\n",
       "Some hints about implementing this in Python:\n",
       "\n",
       "- Use $r = 6371\\ \\mathrm{km}$ for the radius of the earth.\n",
       "- $\\sin^2(x)$ means $\\sin(x) \\times \\sin(x)$.\n",
       "- Both the `math` module and NumPy have the functions `sin()`, `cos()`; these functions expect radians, so an angle in degrees must be converted to radians with `radians()` before giving it to the function.\n",
       "- The arcsine function in `math` is called `asin()`; in NumPy it's `arcsin()`.\n",
       "- You should get the following results from your function:\n",
       "  - The distance **to the nearest km** from (0, 0) to (0, 1) is 111 km.\n",
       "  - The distance **to the nearest km** from (0, 2.35) to (90, 2.35) is 10008 km. [(Why?)](https://en.wikipedia.org/wiki/History_of_the_metre)\n",
       "  - The distance **to the nearest km** from (44.65, -63.58) to (53.73, -1.86) is 4448 km.\n",
       "\n",
       "\n",
       "## A quick reminder how this works\n",
       "\n",
       "You can retrieve your data by choosing any date (or any old Python string to choose a random date) as a **`<KEY>`** and substituting here:\n",
       "    \n",
       "    https://kata.geosci.ai/challenge/birthquakes?key=<KEY>\n",
       "                                                     ^^^^^\n",
       "                                                     you can use a date, e.g. 2001-01-01\n",
       "\n",
       "To answer question 1, make a request like:\n",
       "\n",
       "    https://kata.geosci.ai/challenge/birthquakes?key=<KEY>&question=1&answer=123\n",
       "                                                     ^^^^^          ^        ^^^\n",
       "                                                     your key       Q        your answer\n",
       "\n",
       "[Complete instructions at kata.geosci.ai](https://kata.geosci.ai/challenge)\n",
       "\n",
       "----\n",
       "\n",
       "© 2020 Agile Scientific, licensed CC-BY"
      ],
      "text/plain": [
       "<IPython.core.display.Markdown object>"
      ]
     },
     "execution_count": 1,
     "metadata": {},
     "output_type": "execute_result"
    }
   ],
   "source": [
    "import requests\n",
    "from IPython.display import Markdown\n",
    "\n",
    "url = 'https://kata.geosci.ai/challenge/birthquakes'\n",
    "\n",
    "r = requests.get(url)\n",
    "print('Status', r.status_code)\n",
    "\n",
    "Markdown(r.text)"
   ]
  },
  {
   "cell_type": "markdown",
   "metadata": {},
   "source": [
    "## Load the input data\n",
    "\n",
    "I found this problem to be a little buggy... I tried using 'scibbatical' and '1982-12-25' as my_key, but my answer for question 4 returned as 'Incorrect'. I was pretty sure I had the correct answer in both cases, so I tried 'huh' and things worked.\n",
    "\n",
    "I think the trouble might be that some distances between earthquakes were very close to 100 km (100.1... km). Maybe there is some rounding error somewhere or difference in the haversine calculation?"
   ]
  },
  {
   "cell_type": "code",
   "execution_count": 8,
   "metadata": {},
   "outputs": [
    {
     "data": {
      "text/plain": [
       "'#EventID|Time|Latitude|Longitude|Depth/km|Author|Catalog|Contributor|ContributorID|MagType|Magnitude|MagAuthor|EventLocationName\\nci500531|1982-12-25T23:44:43.810|36.109|-117.808|4.611|ci|ci|ci|ci50053'"
      ]
     },
     "execution_count": 8,
     "metadata": {},
     "output_type": "execute_result"
    }
   ],
   "source": [
    "my_key = '1982-12-25' #'huh' # Not \"scibbatical\" this time!\n",
    "\n",
    "params = {'key': my_key}\n",
    "\n",
    "r = requests.get(url, params)\n",
    "\n",
    "# Look at the first bit of the input:\n",
    "r.text[:200]"
   ]
  },
  {
   "cell_type": "markdown",
   "metadata": {
    "collapsed": true
   },
   "source": [
    "### Parse the input\n",
    "\n",
    "There are '\\n' so separate lines, and the table cells are separated by '|'. I think using Pandas is a good idea ;)"
   ]
  },
  {
   "cell_type": "code",
   "execution_count": 9,
   "metadata": {},
   "outputs": [],
   "source": [
    "import pandas as pd"
   ]
  },
  {
   "cell_type": "code",
   "execution_count": 10,
   "metadata": {},
   "outputs": [],
   "source": [
    "# Carve off the headers from the first line\n",
    "headers = r.text.split('\\n')[0].split('|')\n",
    "\n",
    "# Define the other rows\n",
    "interim = r.text.split('\\n')[1:]\n",
    "\n",
    "# BUT! I noticed that the last record finishes with '\\n', creating an empty row. Ignore it.\n",
    "interim = interim[:-1]"
   ]
  },
  {
   "cell_type": "code",
   "execution_count": 11,
   "metadata": {},
   "outputs": [],
   "source": [
    "# Now define a DataFrame for the earthquakes:\n",
    "eqs = pd.DataFrame([x.split('|') for x in interim], columns=headers)"
   ]
  },
  {
   "cell_type": "code",
   "execution_count": 12,
   "metadata": {
    "scrolled": false
   },
   "outputs": [
    {
     "data": {
      "text/html": [
       "<div>\n",
       "<style scoped>\n",
       "    .dataframe tbody tr th:only-of-type {\n",
       "        vertical-align: middle;\n",
       "    }\n",
       "\n",
       "    .dataframe tbody tr th {\n",
       "        vertical-align: top;\n",
       "    }\n",
       "\n",
       "    .dataframe thead th {\n",
       "        text-align: right;\n",
       "    }\n",
       "</style>\n",
       "<table border=\"1\" class=\"dataframe\">\n",
       "  <thead>\n",
       "    <tr style=\"text-align: right;\">\n",
       "      <th></th>\n",
       "      <th>#EventID</th>\n",
       "      <th>Time</th>\n",
       "      <th>Latitude</th>\n",
       "      <th>Longitude</th>\n",
       "      <th>Depth/km</th>\n",
       "      <th>Author</th>\n",
       "      <th>Catalog</th>\n",
       "      <th>Contributor</th>\n",
       "      <th>ContributorID</th>\n",
       "      <th>MagType</th>\n",
       "      <th>Magnitude</th>\n",
       "      <th>MagAuthor</th>\n",
       "      <th>EventLocationName</th>\n",
       "    </tr>\n",
       "  </thead>\n",
       "  <tbody>\n",
       "    <tr>\n",
       "      <th>112</th>\n",
       "      <td>hv19824966</td>\n",
       "      <td>1982-12-25T01:30:28.690</td>\n",
       "      <td>19.3863333</td>\n",
       "      <td>-155.2813333</td>\n",
       "      <td>1.719</td>\n",
       "      <td>hv</td>\n",
       "      <td>hv</td>\n",
       "      <td>hv</td>\n",
       "      <td>hv19824966</td>\n",
       "      <td>ml</td>\n",
       "      <td>2.07</td>\n",
       "      <td>hv</td>\n",
       "      <td>Hawaii region, Hawaii</td>\n",
       "    </tr>\n",
       "    <tr>\n",
       "      <th>113</th>\n",
       "      <td>nc1083441</td>\n",
       "      <td>1982-12-25T01:04:54.950</td>\n",
       "      <td>37.6205</td>\n",
       "      <td>-118.88</td>\n",
       "      <td>1.526</td>\n",
       "      <td>nc</td>\n",
       "      <td>nc</td>\n",
       "      <td>nc</td>\n",
       "      <td>nc1083441</td>\n",
       "      <td>md</td>\n",
       "      <td>1.32</td>\n",
       "      <td>nc</td>\n",
       "      <td>Long Valley area, California</td>\n",
       "    </tr>\n",
       "    <tr>\n",
       "      <th>114</th>\n",
       "      <td>ci500502</td>\n",
       "      <td>1982-12-25T01:03:00.830</td>\n",
       "      <td>33.777</td>\n",
       "      <td>-115.966</td>\n",
       "      <td>5.58</td>\n",
       "      <td>ci</td>\n",
       "      <td>ci</td>\n",
       "      <td>ci</td>\n",
       "      <td>ci500502</td>\n",
       "      <td>mc</td>\n",
       "      <td>1.81</td>\n",
       "      <td>ci</td>\n",
       "      <td>22km ENE of Coachella, CA</td>\n",
       "    </tr>\n",
       "    <tr>\n",
       "      <th>115</th>\n",
       "      <td>ci500501</td>\n",
       "      <td>1982-12-25T00:41:01.060</td>\n",
       "      <td>33.56</td>\n",
       "      <td>-116.711</td>\n",
       "      <td>3.756</td>\n",
       "      <td>ci</td>\n",
       "      <td>ci</td>\n",
       "      <td>ci</td>\n",
       "      <td>ci500501</td>\n",
       "      <td>mc</td>\n",
       "      <td>1.82</td>\n",
       "      <td>ci</td>\n",
       "      <td>4km W of Anza, CA</td>\n",
       "    </tr>\n",
       "    <tr>\n",
       "      <th>116</th>\n",
       "      <td>usp0001rq8</td>\n",
       "      <td>1982-12-25T00:02:27.790</td>\n",
       "      <td>-15.392</td>\n",
       "      <td>-73.648</td>\n",
       "      <td>99.1</td>\n",
       "      <td>us</td>\n",
       "      <td>us</td>\n",
       "      <td>us</td>\n",
       "      <td>usp0001rq8</td>\n",
       "      <td>mb</td>\n",
       "      <td>4.9</td>\n",
       "      <td>us</td>\n",
       "      <td>southern Peru</td>\n",
       "    </tr>\n",
       "  </tbody>\n",
       "</table>\n",
       "</div>"
      ],
      "text/plain": [
       "       #EventID                     Time    Latitude     Longitude Depth/km  \\\n",
       "112  hv19824966  1982-12-25T01:30:28.690  19.3863333  -155.2813333    1.719   \n",
       "113   nc1083441  1982-12-25T01:04:54.950     37.6205       -118.88    1.526   \n",
       "114    ci500502  1982-12-25T01:03:00.830      33.777      -115.966     5.58   \n",
       "115    ci500501  1982-12-25T00:41:01.060       33.56      -116.711    3.756   \n",
       "116  usp0001rq8  1982-12-25T00:02:27.790     -15.392       -73.648     99.1   \n",
       "\n",
       "    Author Catalog Contributor ContributorID MagType Magnitude MagAuthor  \\\n",
       "112     hv      hv          hv    hv19824966      ml      2.07        hv   \n",
       "113     nc      nc          nc     nc1083441      md      1.32        nc   \n",
       "114     ci      ci          ci      ci500502      mc      1.81        ci   \n",
       "115     ci      ci          ci      ci500501      mc      1.82        ci   \n",
       "116     us      us          us    usp0001rq8      mb       4.9        us   \n",
       "\n",
       "                EventLocationName  \n",
       "112         Hawaii region, Hawaii  \n",
       "113  Long Valley area, California  \n",
       "114     22km ENE of Coachella, CA  \n",
       "115             4km W of Anza, CA  \n",
       "116                 southern Peru  "
      ]
     },
     "execution_count": 12,
     "metadata": {},
     "output_type": "execute_result"
    }
   ],
   "source": [
    "eqs.tail()"
   ]
  },
  {
   "cell_type": "markdown",
   "metadata": {
    "collapsed": true
   },
   "source": [
    "## Question 1\n",
    "\n",
    "_How many records (i.e. earthquakes) are there?_"
   ]
  },
  {
   "cell_type": "code",
   "execution_count": 13,
   "metadata": {},
   "outputs": [
    {
     "name": "stdout",
     "output_type": "stream",
     "text": [
      "There are 117 earthquake records on 1982-12-25 .\n"
     ]
    }
   ],
   "source": [
    "answer1 = eqs.shape[0]\n",
    "\n",
    "print('There are', answer1, 'earthquake records on', my_key, '.')"
   ]
  },
  {
   "cell_type": "markdown",
   "metadata": {
    "collapsed": true
   },
   "source": [
    "Submit answer 1:"
   ]
  },
  {
   "cell_type": "code",
   "execution_count": 14,
   "metadata": {},
   "outputs": [
    {
     "data": {
      "text/plain": [
       "'Correct'"
      ]
     },
     "execution_count": 14,
     "metadata": {},
     "output_type": "execute_result"
    }
   ],
   "source": [
    "params = {'key': my_key,   # <--- must be the same key as before\n",
    "          'question': 1,   # <--- which question you're answering\n",
    "          'answer': answer1,  # <--- your answer to that question\n",
    "         }\n",
    "\n",
    "r = requests.get(url, params)\n",
    "\n",
    "r.text"
   ]
  },
  {
   "cell_type": "markdown",
   "metadata": {},
   "source": [
    "## Question 2\n",
    "\n",
    "_What is the depth in metres of the earthquake with the largest Magnitude?_\n",
    "\n",
    "Well, first of all, we need to convert the strings held in the Magnitude and Depth/km cells into numbers. And before we do that, we'll need to fill in some empty cells in the Magnitude column."
   ]
  },
  {
   "cell_type": "code",
   "execution_count": 15,
   "metadata": {},
   "outputs": [],
   "source": [
    "import numpy as np\n",
    "\n",
    "# Replace empty cells with nan\n",
    "eqs.Magnitude.loc[eqs.Magnitude == ''] = np.nan\n",
    "\n",
    "# Now replace the strings in these columns with numbers \n",
    "eqs = eqs.astype({'Latitude': 'float',\n",
    "            'Longitude': 'float',\n",
    "            'Depth/km': 'float',\n",
    "            'Magnitude': 'float'\n",
    "           })"
   ]
  },
  {
   "cell_type": "code",
   "execution_count": 16,
   "metadata": {},
   "outputs": [
    {
     "name": "stdout",
     "output_type": "stream",
     "text": [
      "The largest earthquake had a magnitude of 5.9 , and a depth of 33000.0 m.\n"
     ]
    }
   ],
   "source": [
    "answer2 = eqs['Depth/km'].loc[eqs.Magnitude == eqs.Magnitude.max()].values[0] * 1000\n",
    "\n",
    "print('The largest earthquake had a magnitude of', eqs.Magnitude.max(),\n",
    "      ', and a depth of', answer2,'m.')"
   ]
  },
  {
   "cell_type": "markdown",
   "metadata": {},
   "source": [
    "Sumbit answer 2:"
   ]
  },
  {
   "cell_type": "code",
   "execution_count": 17,
   "metadata": {},
   "outputs": [
    {
     "data": {
      "text/plain": [
       "'Correct'"
      ]
     },
     "execution_count": 17,
     "metadata": {},
     "output_type": "execute_result"
    }
   ],
   "source": [
    "params = {'key': my_key,   # <--- must be the same key as before\n",
    "          'question': 2,   # <--- which question you're answering\n",
    "          'answer': answer2,  # <--- your answer to that question\n",
    "         }\n",
    "\n",
    "r = requests.get(url, params)\n",
    "\n",
    "r.text"
   ]
  },
  {
   "cell_type": "markdown",
   "metadata": {},
   "source": [
    "## Question 3\n",
    "\n",
    "_What is the great circle distance to the nearest km, as given by the haversine formula, between the epicentres of the two largest earthquakes, as measured by magnitude?_\n",
    "\n",
    "Okay, so I need to code up the haversine formula...? Okay, maybe I just copy it from https://gist.github.com/rochacbruno/2883505!"
   ]
  },
  {
   "cell_type": "code",
   "execution_count": 18,
   "metadata": {},
   "outputs": [],
   "source": [
    "import math\n",
    "\n",
    "def havers(origin, destination):\n",
    "    lat1, lon1 = origin\n",
    "    lat2, lon2 = destination\n",
    "    radius = 6371 # km - this copied funciton has the same radius suggested by Agile!\n",
    "\n",
    "    dlat = math.radians(lat2-lat1)\n",
    "    dlon = math.radians(lon2-lon1)\n",
    "    a = math.sin(dlat/2) * math.sin(dlat/2) + math.cos(math.radians(lat1)) \\\n",
    "        * math.cos(math.radians(lat2)) * math.sin(dlon/2) * math.sin(dlon/2)\n",
    "    c = 2 * math.atan2(math.sqrt(a), math.sqrt(1-a))\n",
    "    d = radius * c\n",
    "\n",
    "    return d\n",
    "\n",
    "def havers2(origin, destination):\n",
    "    lat1, lon1 = origin\n",
    "    lat2, lon2 = destination\n",
    "    radius = 6371 # km - this copied funciton has the same radius suggested by Agile!\n",
    "\n",
    "    dlat = math.radians(lat2-lat1)\n",
    "    dlon = math.radians(lon2-lon1)\n",
    "    a = math.sin(dlat/2) * math.sin(dlat/2) + math.cos(math.radians(lat1)) \\\n",
    "        * math.cos(math.radians(lat2)) * math.sin(dlon/2) * math.sin(dlon/2)\n",
    "    c = 2 * radius * math.asin(math.sqrt(a))\n",
    "\n",
    "    return c"
   ]
  },
  {
   "cell_type": "markdown",
   "metadata": {},
   "source": [
    "First, let's sort the DataFrame by Magnitude size and then find the distance between the first two entries:"
   ]
  },
  {
   "cell_type": "code",
   "execution_count": 19,
   "metadata": {},
   "outputs": [
    {
     "name": "stdout",
     "output_type": "stream",
     "text": [
      "The distance between the two largest earthquakes is 1023 km.\n"
     ]
    }
   ],
   "source": [
    "big_locs = eqs.sort_values('Magnitude', ascending=False, axis=0)[['Latitude', 'Longitude']].iloc[:2].values\n",
    "\n",
    "big_dist = round(havers(big_locs[0], big_locs[1]))\n",
    "\n",
    "print('The distance between the two largest earthquakes is', big_dist,'km.')"
   ]
  },
  {
   "cell_type": "markdown",
   "metadata": {},
   "source": [
    "Submit answer 3:"
   ]
  },
  {
   "cell_type": "code",
   "execution_count": 20,
   "metadata": {},
   "outputs": [
    {
     "data": {
      "text/plain": [
       "'Correct'"
      ]
     },
     "execution_count": 20,
     "metadata": {},
     "output_type": "execute_result"
    }
   ],
   "source": [
    "params = {'key': my_key,   # <--- must be the same key as before\n",
    "          'question': 3,   # <--- which question you're answering\n",
    "          'answer': big_dist,  # <--- your answer to that question\n",
    "         }\n",
    "\n",
    "r = requests.get(url, params)\n",
    "\n",
    "r.text"
   ]
  },
  {
   "cell_type": "markdown",
   "metadata": {},
   "source": [
    "## Question 4\n",
    "\n",
    "_Consider all pairs of events. How many pairs are within 100 km of each other?_\n",
    "\n",
    "We'll create an array to hold the distance values between each earthquake, and then populate it with the distance values."
   ]
  },
  {
   "cell_type": "code",
   "execution_count": 21,
   "metadata": {},
   "outputs": [],
   "source": [
    "# Create an empty array, then fill it with Nans\n",
    "eq_dist = np.ones((answer1,answer1))\n",
    "eq_dist = eq_dist * 9999\n",
    "\n",
    "# Now calculate the distances\n",
    "for i in range(answer1):\n",
    "    for j in range(i):\n",
    "        if j < i: # we'll only populate the bottom half of the array\n",
    "            eq_dist[i,j] = havers(eqs[['Latitude', 'Longitude']].iloc[i].values,\n",
    "                             eqs[['Latitude', 'Longitude']].iloc[j].values)"
   ]
  },
  {
   "cell_type": "markdown",
   "metadata": {},
   "source": [
    "Now count how many distances are less than 100 km:"
   ]
  },
  {
   "cell_type": "code",
   "execution_count": 29,
   "metadata": {
    "scrolled": true
   },
   "outputs": [
    {
     "name": "stdout",
     "output_type": "stream",
     "text": [
      "633 earthquakes occurred within 100 km of each other.\n"
     ]
    }
   ],
   "source": [
    "answer4 = len(np.where(eq_dist < 99.6)[0])\n",
    "\n",
    "print(answer4, 'earthquakes occurred within 100 km of each other.')"
   ]
  },
  {
   "cell_type": "markdown",
   "metadata": {},
   "source": [
    "Submit answer 4:"
   ]
  },
  {
   "cell_type": "code",
   "execution_count": 97,
   "metadata": {},
   "outputs": [
    {
     "data": {
      "text/plain": [
       "'Correct! The next challenge is: https://kata.geosci.ai/challenge/fossil-hunting - good luck!'"
      ]
     },
     "execution_count": 97,
     "metadata": {},
     "output_type": "execute_result"
    }
   ],
   "source": [
    "params = {'key': my_key,   # <--- must be the same key as before\n",
    "          'question': 4,   # <--- which question you're answering\n",
    "          'answer': answer4,  # <--- your answer to that question\n",
    "         }\n",
    "\n",
    "r = requests.get(url, params)\n",
    "\n",
    "r.text"
   ]
  },
  {
   "cell_type": "code",
   "execution_count": 35,
   "metadata": {},
   "outputs": [
    {
     "data": {
      "text/plain": [
       "(array([89]), array([80]))"
      ]
     },
     "execution_count": 35,
     "metadata": {},
     "output_type": "execute_result"
    }
   ],
   "source": [
    "np.where(eq_dist.round(1) == 99.7)"
   ]
  },
  {
   "cell_type": "code",
   "execution_count": null,
   "metadata": {},
   "outputs": [],
   "source": []
  },
  {
   "cell_type": "code",
   "execution_count": 31,
   "metadata": {},
   "outputs": [
    {
     "data": {
      "text/plain": [
       "array([[9.9990e+03, 9.9990e+03, 9.9990e+03, ..., 9.9990e+03, 9.9990e+03,\n",
       "        9.9990e+03],\n",
       "       [8.0000e-01, 9.9990e+03, 9.9990e+03, ..., 9.9990e+03, 9.9990e+03,\n",
       "        9.9990e+03],\n",
       "       [1.2000e+00, 5.0000e-01, 9.9990e+03, ..., 9.9990e+03, 9.9990e+03,\n",
       "        9.9990e+03],\n",
       "       ...,\n",
       "       [3.0890e+02, 3.0830e+02, 3.0780e+02, ..., 9.9990e+03, 9.9990e+03,\n",
       "        9.9990e+03],\n",
       "       [3.0060e+02, 2.9990e+02, 2.9940e+02, ..., 7.3000e+01, 9.9990e+03,\n",
       "        9.9990e+03],\n",
       "       [7.3692e+03, 7.3688e+03, 7.3683e+03, ..., 7.0694e+03, 7.1031e+03,\n",
       "        9.9990e+03]])"
      ]
     },
     "execution_count": 31,
     "metadata": {},
     "output_type": "execute_result"
    }
   ],
   "source": [
    "eq_dist.round(1)"
   ]
  },
  {
   "cell_type": "code",
   "execution_count": 38,
   "metadata": {},
   "outputs": [
    {
     "data": {
      "text/plain": [
       "array([[  33.47 , -116.589],\n",
       "       [  34.297, -117.005]])"
      ]
     },
     "execution_count": 38,
     "metadata": {},
     "output_type": "execute_result"
    }
   ],
   "source": [
    "eqs.iloc[[80,89]][['Latitude','Longitude']].values"
   ]
  },
  {
   "cell_type": "code",
   "execution_count": 41,
   "metadata": {},
   "outputs": [
    {
     "data": {
      "text/plain": [
       "99.65397699412607"
      ]
     },
     "execution_count": 41,
     "metadata": {},
     "output_type": "execute_result"
    }
   ],
   "source": [
    "weird_locs = eqs.iloc[[80,89]][['Latitude','Longitude']].values\n",
    "\n",
    "havers2(weird_locs[0], weird_locs[1])"
   ]
  },
  {
   "cell_type": "code",
   "execution_count": null,
   "metadata": {},
   "outputs": [],
   "source": []
  }
 ],
 "metadata": {
  "anaconda-cloud": {},
  "kernelspec": {
   "display_name": "Python 3",
   "language": "python",
   "name": "python3"
  },
  "language_info": {
   "codemirror_mode": {
    "name": "ipython",
    "version": 3
   },
   "file_extension": ".py",
   "mimetype": "text/x-python",
   "name": "python",
   "nbconvert_exporter": "python",
   "pygments_lexer": "ipython3",
   "version": "3.5.6"
  }
 },
 "nbformat": 4,
 "nbformat_minor": 1
}
