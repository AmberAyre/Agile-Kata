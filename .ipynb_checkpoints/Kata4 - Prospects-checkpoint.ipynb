{
 "cells": [
  {
   "cell_type": "code",
   "execution_count": 1,
   "metadata": {},
   "outputs": [
    {
     "name": "stdout",
     "output_type": "stream",
     "text": [
      "Status 200\n"
     ]
    },
    {
     "data": {
      "text/markdown": [
       "# Prospecting\n",
       "\n",
       "We have 5 arrays of 4096 elements each. Each array represents a map as a 'raster' with 64 &times; 64 = 4096 pixels, and is given as a row in the dataset. Each pixel is represented by a single integer, taking values from 0 to 8.\n",
       "\n",
       "The maps represent different things. In order, they are:\n",
       "\n",
       "1. Reliability of well data.\n",
       "2. Reliability of seismic data.\n",
       "3. Porosity from wells and conceptual models.\n",
       "4. Fracture density from wells and seismic.\n",
       "5. Our land position (1 denotes 'our land').\n",
       "\n",
       "We need to answer the following questions:\n",
       "\n",
       "1. How many pixels have zero total reliability?\n",
       "2. How many pixels are predicted to have better than 50th percentile (P50) porosity and better than P50 fracture density?\n",
       "3. How many of these pixels have non-zero reliability and are on our land? These blobs are our _prospects_.\n",
       "4. Find the product of the (x, y) coordinates of the cell containing the centre of mass of the largest _prospect_ blob.\n",
       "\n",
       "For question 4, a centre of mass at (3.4, 12.6) is in the cell (3, 12) and you would respond with 3 &times; 12 = **36**.\n",
       "\n",
       "We'll consider blobs to be connected if they have directly neighbouring pixels. In example A, below, there are 3 'blobs' of one pixel each. In example B there are 2 blobs, each with three pixels.\n",
       "\n",
       "      A        B\n",
       "    1 0 1    1 1 0\n",
       "    0 1 0    1 0 1\n",
       "    0 0 0    0 1 1\n",
       "\n",
       "\n",
       "## Example\n",
       "\n",
       "Here is a dataset of smaller maps. Every row represents a map, each 3 &times 3 pixels:\n",
       "\n",
       "    example = \"\"\"0,1,0,1,2,1,0,1,0\n",
       "                 2,1,0,1,1,1,0,1,0\n",
       "                 0,1,2,1,3,1,1,2,2\n",
       "                 0,2,1,2,3,1,1,3,2\n",
       "                 1,1,1,1,1,1,0,0,0\"\"\"\n",
       "\n",
       "If we re-shaped each row to make a 3 &times; 3 map, the maps would look like:\n",
       "\n",
       "      1       2       3       4       5    <--- map number\n",
       "    0 1 0   2 1 0   0 1 2   0 2 1   1 1 1\n",
       "    1 2 1   1 1 1   1 3 1   2 3 1   1 1 1\n",
       "    0 1 0   0 1 0   1 2 2   1 3 2   0 0 0   \n",
       "\n",
       "Here's how we might answer the questions:\n",
       "\n",
       "1. There are **3** pixels with zeros in both of the reliability maps (the first two maps).\n",
       "1. The P50 values on maps 3 and 4 are 1 and 2 respectively. There are **2** pixels that are higher on both maps.\n",
       "1. Of those pixels, **1** has non-zero reliability and is on our land (map 5).\n",
       "1. The coordinates of that pixels are (1, 1) so the product of those coordinates is **1**.\n",
       "\n",
       "\n",
       "## Hints\n",
       "\n",
       "It's likely that the `scipy.ndimage.measurements` module will be useful in answering question 4. For example, if you have an array `arr` like:\n",
       "\n",
       "    0 1 1\n",
       "    0 0 0\n",
       "    1 0 0\n",
       "\n",
       "Then `scipy.ndimage.measurements.label()` will return two things: the labels and the number 2 (meaning it found 2 objects). The labels have the same shape as the original 'map':\n",
       "\n",
       "    0 1 1   <--- 1 denotes 'object 1'\n",
       "    0 0 0   <--- 0 denotes 'background', i.e. no objects\n",
       "    2 0 0   <--- 2 denotes 'object 2'\n",
       "\n",
       "Once you have labels, you can get the centre of mass of the object labelled `3` with `scipy.ndimage.measurements.center_of_mass(arr, labels, 3)`.\n",
       "\n",
       "We will use the default behaviour of the `scipy.ndimage.measurements.label()` function to decide if things are separate objects.\n",
       "\n",
       "\n",
       "## A quick reminder how this works\n",
       "\n",
       "You can retrieve your data by choosing any Python string as a **`<KEY>`** and substituting here:\n",
       "    \n",
       "    https://kata.geosci.ai/challenge/prospecting?key=<KEY>\n",
       "                                                     ^^^^^\n",
       "                                                     use your own string here\n",
       "\n",
       "To answer question 1, make a request like:\n",
       "\n",
       "    https://kata.geosci.ai/challenge/prospecting?key=<KEY>&question=1&answer=1234\n",
       "                                                     ^^^^^          ^        ^^^^\n",
       "                                                     your key       Q        your answer\n",
       "\n",
       "[Complete instructions at kata.geosci.ai](https://kata.geosci.ai/challenge)\n",
       "\n",
       "----\n",
       "\n",
       "© 2020 Agile Scientific, licensed CC-BY"
      ],
      "text/plain": [
       "<IPython.core.display.Markdown object>"
      ]
     },
     "execution_count": 1,
     "metadata": {},
     "output_type": "execute_result"
    }
   ],
   "source": [
    "import requests\n",
    "from IPython.display import Markdown\n",
    "\n",
    "url = 'https://kata.geosci.ai/challenge/prospecting'\n",
    "\n",
    "r = requests.get(url)\n",
    "print('Status', r.status_code)\n",
    "\n",
    "Markdown(r.text)"
   ]
  },
  {
   "cell_type": "code",
   "execution_count": 2,
   "metadata": {},
   "outputs": [
    {
     "data": {
      "text/plain": [
       "'000055_Sorbas_Yesaers_C_2000-01-01_xM\\n000057_Sorbas_Yesares_H_2000-01-01_PTM\\n000058_Sorbas_Yesares_H'"
      ]
     },
     "execution_count": 2,
     "metadata": {},
     "output_type": "execute_result"
    }
   ],
   "source": [
    "my_key = \"scibbatical\"\n",
    "\n",
    "params = {'key': my_key}\n",
    "\n",
    "r = requests.get(url, params)\n",
    "\n",
    "# Look at the first bit of the input:\n",
    "r.text[:100]"
   ]
  },
  {
   "cell_type": "code",
   "execution_count": null,
   "metadata": {},
   "outputs": [],
   "source": []
  }
 ],
 "metadata": {
  "kernelspec": {
   "display_name": "Python 3",
   "language": "python",
   "name": "python3"
  },
  "language_info": {
   "codemirror_mode": {
    "name": "ipython",
    "version": 3
   },
   "file_extension": ".py",
   "mimetype": "text/x-python",
   "name": "python",
   "nbconvert_exporter": "python",
   "pygments_lexer": "ipython3",
   "version": "3.5.6"
  }
 },
 "nbformat": 4,
 "nbformat_minor": 4
}
