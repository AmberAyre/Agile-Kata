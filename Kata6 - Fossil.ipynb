{
 "cells": [
  {
   "cell_type": "code",
   "execution_count": 4,
   "metadata": {},
   "outputs": [
    {
     "name": "stdout",
     "output_type": "stream",
     "text": [
      "Status 200\n"
     ]
    },
    {
     "data": {
      "text/markdown": [
       "# Fossil hunting\n",
       "\n",
       "We have some fossil abundance data. Each record contains a number, which represents a geological age, and zero or more fossil symbols. One symbol represents one example of that fossil. For example, we might have a record like this:\n",
       "\n",
       "    349.8🦐🐚🐚🐟🐟🦐\n",
       "    \n",
       "The number is the age of the sample in units of 'millions of years before the present', to 4 significant figures, and is unique (there are no duplicate records). It is immediately followed by the fossil counts for that sample. For example, this record indicates that the samples collected from rocks with age = 349.8 Ma contained two shrimps, two gastropod shells, and two fish specimens.\n",
       "\n",
       "Your actual dataset will be much larger than this. It's also less organized: the records are not in order.\n",
       "\n",
       "There are four questions to answer about your data:\n",
       "\n",
       "1. How many samples are there of the most abundant organism?\n",
       "2. What is the age of the oldest record with maximum diversity?\n",
       "3. What is the span (first to last appearance) of the most abundant organism?\n",
       "4. At what age is the latest appearance of the last fossil to appear?\n",
       "\n",
       "When the answer is an age, give 1 decimal place of precision.\n",
       "\n",
       "\n",
       "## Example\n",
       "\n",
       "    345.1🐟\n",
       "    346.2🐚🐚🐟\n",
       "    348.7🐚🦐\n",
       "    349.8🦐🐚🐚🐟🐟🦐\n",
       "    350.0🐚🦐🦐🐚🦐🦐\n",
       "    351.7🦐🐟🦐\n",
       "    353.8🦐\n",
       "    354.9\n",
       "\n",
       "We'd answer the questions this way:\n",
       "\n",
       "1. The most abundant organism is the shrimp, with **10** specimens.\n",
       "2. The oldest record with the maximum diversity (3 fossil types) is **349.8**\n",
       "3. The span of the most abundant organism (the shrimp) is 353.8 - 348.7 = **5.1**\n",
       "4. The last fossil to appear (the shell) last appears at an age of **346.2**\n",
       "\n",
       "\n",
       "## A quick reminder how this works\n",
       "\n",
       "You can retrieve your data by choosing any Python string as a **`<KEY>`** and substituting here:\n",
       "\n",
       "    https://kata.geosci.ai/challenge/fossil-hunting?key=<KEY>\n",
       "                                                        ^^^^^\n",
       "                                                        any old string you like\n",
       "\n",
       "To answer question 1, make a request like:\n",
       "\n",
       "    https://kata.geosci.ai/challenge/fossil-hunting?key=<KEY>&question=1&answer=123\n",
       "                                                        ^^^^^          ^        ^^^\n",
       "                                                        your key       Q        your answer\n",
       "\n",
       "[Complete instructions at kata.geosci.ai](https://kata.geosci.ai/challenge)\n",
       "\n",
       "----\n",
       "\n",
       "© 2020 Agile Scientific, licensed CC-BY"
      ],
      "text/plain": [
       "<IPython.core.display.Markdown object>"
      ]
     },
     "execution_count": 4,
     "metadata": {},
     "output_type": "execute_result"
    }
   ],
   "source": [
    "import requests\n",
    "from IPython.display import Markdown\n",
    "\n",
    "url = 'https://kata.geosci.ai/challenge/fossil-hunting'\n",
    "\n",
    "r = requests.get(url)\n",
    "print('Status', r.status_code)\n",
    "\n",
    "Markdown(r.text)"
   ]
  },
  {
   "cell_type": "markdown",
   "metadata": {},
   "source": [
    "## Load the input data"
   ]
  },
  {
   "cell_type": "code",
   "execution_count": 5,
   "metadata": {},
   "outputs": [
    {
     "data": {
      "text/plain": [
       "'127.7🐟🐟🌟🐟🐟🐟🐟🐟🐟🌟🐟🐟🌟🐟🐟🌟322.0\\U0001f9a0\\U0001f9a0\\U0001f9a0\\U0001f9a0\\U0001f9a0\\U0001f9a0🐠🐠🐠\\U0001f9a0179.2🐟🐟🐟🐟🐟🌿🐟🌟🌟🌿🌟🐟🌟🐟🐟🐟🐟🐟🌿🐟🌟🐟🐟🌟🌟🌟🐟🐟\\U0001f990🐟🌟🐟🌟🐟🌟🦄🌟\\U0001f990\\U0001f990🐟🐟🌟🌟🌟🌟🦄🌿🌟🦄🌟🐟🐟🌟🦄\\U0001f990🐟🐟🌿🌟🐟258.4\\U0001f990🐚🐠🌿🐚🌿🐚🐠🐚🐚🐠🐚\\U0001f990🌿🌿🐠🌿🐚\\U0001f990\\U0001f990🌿🐚\\U0001f990🐚🐚🐠🐠🐚\\U0001f990🐚\\U0001f990🌿🐚🐚🐚🌿🌿🌿🐠🐠🐠🌿\\U0001f990\\U0001f990\\U0001f990🐚🐚273.4\\U0001f9a0🐚🐚🌿\\U0001f990\\U0001f9a0🐚\\U0001f990🐠\\U0001f990🐚🐚🐚🐠\\U0001f990🐚🐠🐠\\U0001f990\\U0001f9a0🐠\\U0001f990🐠🐚🐚🐚\\U0001f990🐠\\U0001f990🐠🐚🐚🐚🐚🐚🐚🐚\\U0001f990🐠\\U0001f990🐚\\U0001f9a0'"
      ]
     },
     "execution_count": 5,
     "metadata": {},
     "output_type": "execute_result"
    }
   ],
   "source": [
    "my_key = 'scibbatical'\n",
    "\n",
    "params = {'key': my_key}\n",
    "\n",
    "r = requests.get(url, params)\n",
    "\n",
    "# Look at the first bit of the input:\n",
    "#Markdown(r.text[:200])\n",
    "r.text[:200]"
   ]
  },
  {
   "cell_type": "markdown",
   "metadata": {},
   "source": [
    "Okay, I can see the cute emojis, but I'll think some of the unicode (?) emojis are unrecognized by my browser or something. Hope it's not a big deal!"
   ]
  },
  {
   "cell_type": "markdown",
   "metadata": {},
   "source": [
    "### 'Parse' the data\n",
    "\n",
    "I think I want to turn this data into a DataFrame where each column is the count of a given organism. I therefore need to discover all types of organisms."
   ]
  },
  {
   "cell_type": "code",
   "execution_count": 6,
   "metadata": {},
   "outputs": [
    {
     "name": "stdout",
     "output_type": "stream",
     "text": [
      "['.', '0', '1', '2', '3', '4', '5', '6', '7', '8', '9', '🌟', '🌿', '🐚', '🐟', '🐠', '🦄', '\\U0001f990', '\\U0001f9a0']\n"
     ]
    }
   ],
   "source": [
    "orig_input = r.text[:]\n",
    "\n",
    "# Find unique characters in input data, then sort them\n",
    "chars = list(set(r.text))\n",
    "chars.sort()\n",
    "\n",
    "print(chars)"
   ]
  },
  {
   "cell_type": "markdown",
   "metadata": {},
   "source": [
    "Okay, I see the first 11 characters are related to the ages and the others are the fossils. Create a list of fossils:"
   ]
  },
  {
   "cell_type": "code",
   "execution_count": 7,
   "metadata": {},
   "outputs": [],
   "source": [
    "fossils = chars[11:]"
   ]
  },
  {
   "cell_type": "markdown",
   "metadata": {},
   "source": [
    "Okay, there doesn't appear to be a convenient character that separates one entry from another, so we'll have to get more manual with this parsing.\n",
    "\n",
    "The ages that I've seen appear to be given with 5 characters (four digits and a '.'), however, that may not always be the case."
   ]
  },
  {
   "cell_type": "code",
   "execution_count": 147,
   "metadata": {},
   "outputs": [],
   "source": [
    "# So, define a function that discovers the next non-number character...\n",
    "def next_fossil(string):\n",
    "    global fossils\n",
    "    for i, char in enumerate(string):\n",
    "        if char in fossils:\n",
    "            return i        \n",
    "    \n",
    "    return -1\n",
    "\n",
    "# ... and another that finds the next decimal ...\n",
    "def next_decimal(string):\n",
    "    global fossils\n",
    "    for i, char in enumerate(string):\n",
    "        if char == '.':\n",
    "            return i     \n",
    "    \n",
    "    return -1\n",
    "\n",
    "# ... and another that finds the next number.\n",
    "def next_number(string):\n",
    "    global fossils\n",
    "    for i, char in enumerate(string):\n",
    "        if char not in fossils:\n",
    "            return i        \n",
    "    \n",
    "    return -1\n",
    "\n",
    "# And finally, one that takes the input string and\n",
    "# returns the next record. \n",
    "def tuna(string):\n",
    "    \n",
    "    scout = string[next_decimal(string)+2:]\n",
    "    \n",
    "    if next_number(scout) == -1:\n",
    "        return string\n",
    "    \n",
    "    if next_number(scout) == 0: # if there is a record with no fossils\n",
    "        record = string[:next_decimal(string)+2]\n",
    "    else:\n",
    "        record = string[:next_fossil(string) + next_number(scout)]\n",
    "    \n",
    "    return record\n",
    "        "
   ]
  },
  {
   "cell_type": "markdown",
   "metadata": {},
   "source": [
    "Now, parse the input string into a list:"
   ]
  },
  {
   "cell_type": "code",
   "execution_count": 148,
   "metadata": {},
   "outputs": [
    {
     "name": "stdout",
     "output_type": "stream",
     "text": [
      "Input parsed into 191 entries.\n"
     ]
    }
   ],
   "source": [
    "# Make a copy of the input data\n",
    "interim = orig_input\n",
    "\n",
    "# Create an empty list that will hold the entries\n",
    "entries = []\n",
    "\n",
    "# Initiate a flag that will indicate when the we're done parsing\n",
    "entry_match = 0\n",
    "\n",
    "\n",
    "while entry_match == 0:\n",
    "    \n",
    "    # find new record\n",
    "    new = tuna(interim)\n",
    "    #print(new)\n",
    "    \n",
    "    # if break if there isn't a new\n",
    "    if new == '':\n",
    "        break\n",
    "    \n",
    "    # append the next entry\n",
    "    entries.append(new)\n",
    "    \n",
    "    # remove the entry from interim\n",
    "    interim = interim[len(new):]\n",
    "    \n",
    "print('Input parsed into', len(entries), 'entries.')"
   ]
  },
  {
   "cell_type": "markdown",
   "metadata": {},
   "source": [
    "Okay, now we can populate a DataFrame:"
   ]
  },
  {
   "cell_type": "code",
   "execution_count": 89,
   "metadata": {},
   "outputs": [],
   "source": [
    "import pandas as pd"
   ]
  },
  {
   "cell_type": "code",
   "execution_count": 175,
   "metadata": {},
   "outputs": [],
   "source": [
    "fossil_data = pd.DataFrame(columns = ['age'] + fossils)\n",
    "\n",
    "for entry in entries:\n",
    "    fossil_data = fossil_data.append({'age' : float(entry[:next_decimal(entry)+2]),\n",
    "                                      fossils[0] : entry.count(fossils[0]),\n",
    "                                      fossils[1] : entry.count(fossils[1]),\n",
    "                                      fossils[2] : entry.count(fossils[2]),\n",
    "                                      fossils[3] : entry.count(fossils[3]),\n",
    "                                      fossils[4] : entry.count(fossils[4]),\n",
    "                                      fossils[5] : entry.count(fossils[5]),\n",
    "                                      fossils[6] : entry.count(fossils[6]),\n",
    "                                      fossils[7] : entry.count(fossils[7])},\n",
    "                                      ignore_index = True)\n",
    "    \n"
   ]
  },
  {
   "cell_type": "code",
   "execution_count": 176,
   "metadata": {
    "scrolled": true
   },
   "outputs": [
    {
     "data": {
      "text/html": [
       "<div>\n",
       "<style scoped>\n",
       "    .dataframe tbody tr th:only-of-type {\n",
       "        vertical-align: middle;\n",
       "    }\n",
       "\n",
       "    .dataframe tbody tr th {\n",
       "        vertical-align: top;\n",
       "    }\n",
       "\n",
       "    .dataframe thead th {\n",
       "        text-align: right;\n",
       "    }\n",
       "</style>\n",
       "<table border=\"1\" class=\"dataframe\">\n",
       "  <thead>\n",
       "    <tr style=\"text-align: right;\">\n",
       "      <th></th>\n",
       "      <th>age</th>\n",
       "      <th>🌟</th>\n",
       "      <th>🌿</th>\n",
       "      <th>🐚</th>\n",
       "      <th>🐟</th>\n",
       "      <th>🐠</th>\n",
       "      <th>🦄</th>\n",
       "      <th>🦐</th>\n",
       "      <th>🦠</th>\n",
       "    </tr>\n",
       "  </thead>\n",
       "  <tbody>\n",
       "    <tr>\n",
       "      <th>0</th>\n",
       "      <td>127.7</td>\n",
       "      <td>4.0</td>\n",
       "      <td>0.0</td>\n",
       "      <td>0.0</td>\n",
       "      <td>12.0</td>\n",
       "      <td>0.0</td>\n",
       "      <td>0.0</td>\n",
       "      <td>0.0</td>\n",
       "      <td>0.0</td>\n",
       "    </tr>\n",
       "    <tr>\n",
       "      <th>1</th>\n",
       "      <td>322.0</td>\n",
       "      <td>0.0</td>\n",
       "      <td>0.0</td>\n",
       "      <td>0.0</td>\n",
       "      <td>0.0</td>\n",
       "      <td>3.0</td>\n",
       "      <td>0.0</td>\n",
       "      <td>0.0</td>\n",
       "      <td>7.0</td>\n",
       "    </tr>\n",
       "    <tr>\n",
       "      <th>2</th>\n",
       "      <td>179.2</td>\n",
       "      <td>20.0</td>\n",
       "      <td>5.0</td>\n",
       "      <td>0.0</td>\n",
       "      <td>27.0</td>\n",
       "      <td>0.0</td>\n",
       "      <td>4.0</td>\n",
       "      <td>4.0</td>\n",
       "      <td>0.0</td>\n",
       "    </tr>\n",
       "    <tr>\n",
       "      <th>3</th>\n",
       "      <td>258.4</td>\n",
       "      <td>0.0</td>\n",
       "      <td>11.0</td>\n",
       "      <td>17.0</td>\n",
       "      <td>0.0</td>\n",
       "      <td>9.0</td>\n",
       "      <td>0.0</td>\n",
       "      <td>10.0</td>\n",
       "      <td>0.0</td>\n",
       "    </tr>\n",
       "    <tr>\n",
       "      <th>4</th>\n",
       "      <td>273.4</td>\n",
       "      <td>0.0</td>\n",
       "      <td>1.0</td>\n",
       "      <td>18.0</td>\n",
       "      <td>0.0</td>\n",
       "      <td>9.0</td>\n",
       "      <td>0.0</td>\n",
       "      <td>10.0</td>\n",
       "      <td>5.0</td>\n",
       "    </tr>\n",
       "  </tbody>\n",
       "</table>\n",
       "</div>"
      ],
      "text/plain": [
       "     age     🌟     🌿     🐚     🐟    🐠    🦄     🦐    🦠\n",
       "0  127.7   4.0   0.0   0.0  12.0  0.0  0.0   0.0  0.0\n",
       "1  322.0   0.0   0.0   0.0   0.0  3.0  0.0   0.0  7.0\n",
       "2  179.2  20.0   5.0   0.0  27.0  0.0  4.0   4.0  0.0\n",
       "3  258.4   0.0  11.0  17.0   0.0  9.0  0.0  10.0  0.0\n",
       "4  273.4   0.0   1.0  18.0   0.0  9.0  0.0  10.0  5.0"
      ]
     },
     "execution_count": 176,
     "metadata": {},
     "output_type": "execute_result"
    }
   ],
   "source": [
    "fossil_data.head()"
   ]
  },
  {
   "cell_type": "markdown",
   "metadata": {},
   "source": [
    "Boo-yeah! Alright. Begin analysis.\n",
    "\n",
    "## Question 1\n",
    "\n",
    "_How many samples are there of the most abundant organism?_\n",
    "\n",
    "Determine which is most prevalent and then find the amount."
   ]
  },
  {
   "cell_type": "code",
   "execution_count": 183,
   "metadata": {},
   "outputs": [
    {
     "name": "stdout",
     "output_type": "stream",
     "text": [
      "There are 1625 observations of the most abundant fossil.\n"
     ]
    }
   ],
   "source": [
    "# Use .sum()\n",
    "answer1 = int(max(fossil_data[fossils].sum()))\n",
    "\n",
    "print('There are', answer1, 'observations of the most abundant fossil.')"
   ]
  },
  {
   "cell_type": "markdown",
   "metadata": {},
   "source": [
    "Submit answer 1:"
   ]
  },
  {
   "cell_type": "code",
   "execution_count": 184,
   "metadata": {},
   "outputs": [
    {
     "data": {
      "text/plain": [
       "'Correct'"
      ]
     },
     "execution_count": 184,
     "metadata": {},
     "output_type": "execute_result"
    }
   ],
   "source": [
    "params = {'key': my_key,   # <--- must be the same key as before\n",
    "          'question': 1,   # <--- which question you're answering\n",
    "          'answer': answer1,  # <--- your answer to that question\n",
    "         }\n",
    "\n",
    "r = requests.get(url, params)\n",
    "\n",
    "r.text"
   ]
  },
  {
   "cell_type": "markdown",
   "metadata": {},
   "source": [
    "Boo-yeah!\n",
    "\n",
    "## Question 2\n",
    "\n",
    "_What is the age of the oldest record with maximum diversity?_\n",
    "\n",
    "I will take \"diversity\" to mean number of unique organisms in a sample.\n",
    "\n",
    "It might be useful to have a version of the DataFrame with Nans instead of zeros."
   ]
  },
  {
   "cell_type": "code",
   "execution_count": 194,
   "metadata": {},
   "outputs": [],
   "source": [
    "import numpy as np"
   ]
  },
  {
   "cell_type": "code",
   "execution_count": 195,
   "metadata": {},
   "outputs": [
    {
     "data": {
      "text/html": [
       "<div>\n",
       "<style scoped>\n",
       "    .dataframe tbody tr th:only-of-type {\n",
       "        vertical-align: middle;\n",
       "    }\n",
       "\n",
       "    .dataframe tbody tr th {\n",
       "        vertical-align: top;\n",
       "    }\n",
       "\n",
       "    .dataframe thead th {\n",
       "        text-align: right;\n",
       "    }\n",
       "</style>\n",
       "<table border=\"1\" class=\"dataframe\">\n",
       "  <thead>\n",
       "    <tr style=\"text-align: right;\">\n",
       "      <th></th>\n",
       "      <th>age</th>\n",
       "      <th>🌟</th>\n",
       "      <th>🌿</th>\n",
       "      <th>🐚</th>\n",
       "      <th>🐟</th>\n",
       "      <th>🐠</th>\n",
       "      <th>🦄</th>\n",
       "      <th>🦐</th>\n",
       "      <th>🦠</th>\n",
       "    </tr>\n",
       "  </thead>\n",
       "  <tbody>\n",
       "    <tr>\n",
       "      <th>0</th>\n",
       "      <td>127.7</td>\n",
       "      <td>4.0</td>\n",
       "      <td>NaN</td>\n",
       "      <td>NaN</td>\n",
       "      <td>12.0</td>\n",
       "      <td>NaN</td>\n",
       "      <td>NaN</td>\n",
       "      <td>NaN</td>\n",
       "      <td>NaN</td>\n",
       "    </tr>\n",
       "    <tr>\n",
       "      <th>1</th>\n",
       "      <td>322.0</td>\n",
       "      <td>NaN</td>\n",
       "      <td>NaN</td>\n",
       "      <td>NaN</td>\n",
       "      <td>NaN</td>\n",
       "      <td>3.0</td>\n",
       "      <td>NaN</td>\n",
       "      <td>NaN</td>\n",
       "      <td>7.0</td>\n",
       "    </tr>\n",
       "    <tr>\n",
       "      <th>2</th>\n",
       "      <td>179.2</td>\n",
       "      <td>20.0</td>\n",
       "      <td>5.0</td>\n",
       "      <td>NaN</td>\n",
       "      <td>27.0</td>\n",
       "      <td>NaN</td>\n",
       "      <td>4.0</td>\n",
       "      <td>4.0</td>\n",
       "      <td>NaN</td>\n",
       "    </tr>\n",
       "    <tr>\n",
       "      <th>3</th>\n",
       "      <td>258.4</td>\n",
       "      <td>NaN</td>\n",
       "      <td>11.0</td>\n",
       "      <td>17.0</td>\n",
       "      <td>NaN</td>\n",
       "      <td>9.0</td>\n",
       "      <td>NaN</td>\n",
       "      <td>10.0</td>\n",
       "      <td>NaN</td>\n",
       "    </tr>\n",
       "    <tr>\n",
       "      <th>4</th>\n",
       "      <td>273.4</td>\n",
       "      <td>NaN</td>\n",
       "      <td>1.0</td>\n",
       "      <td>18.0</td>\n",
       "      <td>NaN</td>\n",
       "      <td>9.0</td>\n",
       "      <td>NaN</td>\n",
       "      <td>10.0</td>\n",
       "      <td>5.0</td>\n",
       "    </tr>\n",
       "  </tbody>\n",
       "</table>\n",
       "</div>"
      ],
      "text/plain": [
       "     age     🌟     🌿     🐚     🐟    🐠    🦄     🦐    🦠\n",
       "0  127.7   4.0   NaN   NaN  12.0  NaN  NaN   NaN  NaN\n",
       "1  322.0   NaN   NaN   NaN   NaN  3.0  NaN   NaN  7.0\n",
       "2  179.2  20.0   5.0   NaN  27.0  NaN  4.0   4.0  NaN\n",
       "3  258.4   NaN  11.0  17.0   NaN  9.0  NaN  10.0  NaN\n",
       "4  273.4   NaN   1.0  18.0   NaN  9.0  NaN  10.0  5.0"
      ]
     },
     "execution_count": 195,
     "metadata": {},
     "output_type": "execute_result"
    }
   ],
   "source": [
    "fossil_data_nan = fossil_data.replace(0, np.nan)\n",
    "\n",
    "fossil_data_nan.head()"
   ]
  },
  {
   "cell_type": "markdown",
   "metadata": {},
   "source": [
    "Okay, now count the non-nan values for each entry and put them in a 'diveristy' column in the fossil_data DataFrame."
   ]
  },
  {
   "cell_type": "code",
   "execution_count": 202,
   "metadata": {},
   "outputs": [
    {
     "data": {
      "text/html": [
       "<div>\n",
       "<style scoped>\n",
       "    .dataframe tbody tr th:only-of-type {\n",
       "        vertical-align: middle;\n",
       "    }\n",
       "\n",
       "    .dataframe tbody tr th {\n",
       "        vertical-align: top;\n",
       "    }\n",
       "\n",
       "    .dataframe thead th {\n",
       "        text-align: right;\n",
       "    }\n",
       "</style>\n",
       "<table border=\"1\" class=\"dataframe\">\n",
       "  <thead>\n",
       "    <tr style=\"text-align: right;\">\n",
       "      <th></th>\n",
       "      <th>age</th>\n",
       "      <th>🌟</th>\n",
       "      <th>🌿</th>\n",
       "      <th>🐚</th>\n",
       "      <th>🐟</th>\n",
       "      <th>🐠</th>\n",
       "      <th>🦄</th>\n",
       "      <th>🦐</th>\n",
       "      <th>🦠</th>\n",
       "      <th>diversity</th>\n",
       "    </tr>\n",
       "  </thead>\n",
       "  <tbody>\n",
       "    <tr>\n",
       "      <th>0</th>\n",
       "      <td>127.7</td>\n",
       "      <td>4.0</td>\n",
       "      <td>0.0</td>\n",
       "      <td>0.0</td>\n",
       "      <td>12.0</td>\n",
       "      <td>0.0</td>\n",
       "      <td>0.0</td>\n",
       "      <td>0.0</td>\n",
       "      <td>0.0</td>\n",
       "      <td>2</td>\n",
       "    </tr>\n",
       "    <tr>\n",
       "      <th>1</th>\n",
       "      <td>322.0</td>\n",
       "      <td>0.0</td>\n",
       "      <td>0.0</td>\n",
       "      <td>0.0</td>\n",
       "      <td>0.0</td>\n",
       "      <td>3.0</td>\n",
       "      <td>0.0</td>\n",
       "      <td>0.0</td>\n",
       "      <td>7.0</td>\n",
       "      <td>2</td>\n",
       "    </tr>\n",
       "    <tr>\n",
       "      <th>2</th>\n",
       "      <td>179.2</td>\n",
       "      <td>20.0</td>\n",
       "      <td>5.0</td>\n",
       "      <td>0.0</td>\n",
       "      <td>27.0</td>\n",
       "      <td>0.0</td>\n",
       "      <td>4.0</td>\n",
       "      <td>4.0</td>\n",
       "      <td>0.0</td>\n",
       "      <td>5</td>\n",
       "    </tr>\n",
       "    <tr>\n",
       "      <th>3</th>\n",
       "      <td>258.4</td>\n",
       "      <td>0.0</td>\n",
       "      <td>11.0</td>\n",
       "      <td>17.0</td>\n",
       "      <td>0.0</td>\n",
       "      <td>9.0</td>\n",
       "      <td>0.0</td>\n",
       "      <td>10.0</td>\n",
       "      <td>0.0</td>\n",
       "      <td>4</td>\n",
       "    </tr>\n",
       "    <tr>\n",
       "      <th>4</th>\n",
       "      <td>273.4</td>\n",
       "      <td>0.0</td>\n",
       "      <td>1.0</td>\n",
       "      <td>18.0</td>\n",
       "      <td>0.0</td>\n",
       "      <td>9.0</td>\n",
       "      <td>0.0</td>\n",
       "      <td>10.0</td>\n",
       "      <td>5.0</td>\n",
       "      <td>5</td>\n",
       "    </tr>\n",
       "  </tbody>\n",
       "</table>\n",
       "</div>"
      ],
      "text/plain": [
       "     age     🌟     🌿     🐚     🐟    🐠    🦄     🦐    🦠  diversity\n",
       "0  127.7   4.0   0.0   0.0  12.0  0.0  0.0   0.0  0.0          2\n",
       "1  322.0   0.0   0.0   0.0   0.0  3.0  0.0   0.0  7.0          2\n",
       "2  179.2  20.0   5.0   0.0  27.0  0.0  4.0   4.0  0.0          5\n",
       "3  258.4   0.0  11.0  17.0   0.0  9.0  0.0  10.0  0.0          4\n",
       "4  273.4   0.0   1.0  18.0   0.0  9.0  0.0  10.0  5.0          5"
      ]
     },
     "execution_count": 202,
     "metadata": {},
     "output_type": "execute_result"
    }
   ],
   "source": [
    "fossil_data['diversity'] = fossil_data_nan[fossils].count(axis=1)\n",
    "\n",
    "fossil_data.head()"
   ]
  },
  {
   "cell_type": "markdown",
   "metadata": {},
   "source": [
    "Now find the max age of all entries with the maximum diversity value:"
   ]
  },
  {
   "cell_type": "code",
   "execution_count": 210,
   "metadata": {},
   "outputs": [
    {
     "name": "stdout",
     "output_type": "stream",
     "text": [
      "The oldest record with max biodiversity has an age of 216.8\n"
     ]
    }
   ],
   "source": [
    "answer2 = max(fossil_data.loc[fossil_data.diversity == fossil_data.diversity.max()].age)\n",
    "\n",
    "print('The oldest record with max biodiversity has an age of', answer2)"
   ]
  },
  {
   "cell_type": "markdown",
   "metadata": {},
   "source": [
    "Submit answer 2:"
   ]
  },
  {
   "cell_type": "code",
   "execution_count": 211,
   "metadata": {},
   "outputs": [
    {
     "data": {
      "text/plain": [
       "'Correct'"
      ]
     },
     "execution_count": 211,
     "metadata": {},
     "output_type": "execute_result"
    }
   ],
   "source": [
    "params = {'key': my_key,   # <--- must be the same key as before\n",
    "          'question': 2,   # <--- which question you're answering\n",
    "          'answer': answer2,  # <--- your answer to that question\n",
    "         }\n",
    "\n",
    "r = requests.get(url, params)\n",
    "\n",
    "r.text"
   ]
  },
  {
   "cell_type": "markdown",
   "metadata": {},
   "source": [
    "Boo-yeah!\n",
    "\n",
    "## Question 3\n",
    "\n",
    "_What is the span (first to last appearance) of the most abundant organism?_\n",
    "\n",
    "I will take the span as the difference between the first and last appearance of that organism.\n",
    "\n",
    "First I need to find the most abundant organsim:"
   ]
  },
  {
   "cell_type": "code",
   "execution_count": 221,
   "metadata": {},
   "outputs": [
    {
     "name": "stdout",
     "output_type": "stream",
     "text": [
      "🐟 is the most abundant.\n"
     ]
    }
   ],
   "source": [
    "abund_fossil = fossils[fossil_data[fossils].sum().values.argmax()]\n",
    "\n",
    "print(abund_fossil, 'is the most abundant.')"
   ]
  },
  {
   "cell_type": "markdown",
   "metadata": {},
   "source": [
    "Now find the difference between the first and last instance of the most abundant:"
   ]
  },
  {
   "cell_type": "code",
   "execution_count": 229,
   "metadata": {},
   "outputs": [
    {
     "name": "stdout",
     "output_type": "stream",
     "text": [
      "The span of the most abundant fossil is 104.3\n"
     ]
    }
   ],
   "source": [
    "answer3 = round(max(fossil_data.loc[fossil_data[abund_fossil] > 0].age) -\n",
    "      min(fossil_data.loc[fossil_data[abund_fossil] > 0].age),\n",
    "      1)\n",
    "\n",
    "print('The span of the most abundant fossil is', answer3)"
   ]
  },
  {
   "cell_type": "markdown",
   "metadata": {},
   "source": [
    "Submit answer 3:"
   ]
  },
  {
   "cell_type": "code",
   "execution_count": 230,
   "metadata": {},
   "outputs": [
    {
     "data": {
      "text/plain": [
       "'Correct'"
      ]
     },
     "execution_count": 230,
     "metadata": {},
     "output_type": "execute_result"
    }
   ],
   "source": [
    "params = {'key': my_key,   # <--- must be the same key as before\n",
    "          'question': 3,   # <--- which question you're answering\n",
    "          'answer': answer3,  # <--- your answer to that question\n",
    "         }\n",
    "\n",
    "r = requests.get(url, params)\n",
    "\n",
    "r.text"
   ]
  },
  {
   "cell_type": "markdown",
   "metadata": {},
   "source": [
    "Boo-yeah!\n",
    "\n",
    "## Question 4\n",
    "\n",
    "_At what age is the latest appearance of the last fossil to appear?_\n",
    "\n",
    "Okay, a little bit of a mind-twister here...\n",
    "1. The last fossil to appear is the one with the minimum value of their maximum age.\n",
    "2. The last appearance is the minimum age.\n",
    "\n",
    "So, if I create an array that contains the min and max ages of each fossil, I should be able to find the answer to this question."
   ]
  },
  {
   "cell_type": "code",
   "execution_count": 236,
   "metadata": {},
   "outputs": [],
   "source": [
    "# Create an array where each row represents a fossil type \n",
    "age_range = np.ones((len(fossils),2))\n",
    "\n",
    "for i,fossil in enumerate(fossils):\n",
    "    # Put the max age in column 0\n",
    "    age_range[i,0] = max(fossil_data.loc[fossil_data[fossil] > 0].age)\n",
    "    # Put the min age in column 1\n",
    "    age_range[i,1] = min(fossil_data.loc[fossil_data[fossil] > 0].age)"
   ]
  },
  {
   "cell_type": "markdown",
   "metadata": {},
   "source": [
    "Now analyze the age ranges to discover the answer to question 4:"
   ]
  },
  {
   "cell_type": "code",
   "execution_count": 238,
   "metadata": {},
   "outputs": [
    {
     "data": {
      "text/plain": [
       "array([[229.3, 121.5],\n",
       "       [273.4, 159.2],\n",
       "       [281.8, 234.2],\n",
       "       [216.8, 112.5],\n",
       "       [324.7, 212.6],\n",
       "       [224.2, 144.7],\n",
       "       [302.5, 144.7],\n",
       "       [332.3, 267.2]])"
      ]
     },
     "execution_count": 238,
     "metadata": {},
     "output_type": "execute_result"
    }
   ],
   "source": [
    "age_range"
   ]
  },
  {
   "cell_type": "code",
   "execution_count": 242,
   "metadata": {},
   "outputs": [
    {
     "name": "stdout",
     "output_type": "stream",
     "text": [
      "The last fossil to appear was 🐟 , and they last appeared at 112.5\n"
     ]
    }
   ],
   "source": [
    "answer4 = age_range[np.argmin(age_range[:,0]),1]\n",
    "\n",
    "print('The last fossil to appear was',\n",
    "      fossils[np.argmin(age_range[:,0])],\n",
    "      ', and they last appeared at',\n",
    "      answer4)"
   ]
  },
  {
   "cell_type": "markdown",
   "metadata": {},
   "source": [
    "Submit answer 4:"
   ]
  },
  {
   "cell_type": "code",
   "execution_count": 243,
   "metadata": {},
   "outputs": [
    {
     "data": {
      "text/plain": [
       "'Correct! The next challenge is not ready yet. Check this URL again later.'"
      ]
     },
     "execution_count": 243,
     "metadata": {},
     "output_type": "execute_result"
    }
   ],
   "source": [
    "params = {'key': my_key,   # <--- must be the same key as before\n",
    "          'question': 4,   # <--- which question you're answering\n",
    "          'answer': answer4,  # <--- your answer to that question\n",
    "         }\n",
    "\n",
    "r = requests.get(url, params)\n",
    "\n",
    "r.text"
   ]
  }
 ],
 "metadata": {
  "kernelspec": {
   "display_name": "Python 3",
   "language": "python",
   "name": "python3"
  },
  "language_info": {
   "codemirror_mode": {
    "name": "ipython",
    "version": 3
   },
   "file_extension": ".py",
   "mimetype": "text/x-python",
   "name": "python",
   "nbconvert_exporter": "python",
   "pygments_lexer": "ipython3",
   "version": "3.5.6"
  }
 },
 "nbformat": 4,
 "nbformat_minor": 4
}
