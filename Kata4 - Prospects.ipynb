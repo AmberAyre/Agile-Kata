{
 "cells": [
  {
   "cell_type": "code",
   "execution_count": 1,
   "metadata": {
    "collapsed": false
   },
   "outputs": [
    {
     "name": "stdout",
     "output_type": "stream",
     "text": [
      "Status 200\n"
     ]
    },
    {
     "data": {
      "text/markdown": [
       "# Prospecting\n",
       "\n",
       "We have 5 arrays of 4096 elements each. Each array represents a map as a 'raster' with 64 &times; 64 = 4096 pixels, and is given as a row in the dataset. Each pixel is represented by a single integer, taking values from 0 to 8.\n",
       "\n",
       "The maps represent different things. In order, they are:\n",
       "\n",
       "1. Reliability of well data.\n",
       "2. Reliability of seismic data.\n",
       "3. Porosity from wells and conceptual models.\n",
       "4. Fracture density from wells and seismic.\n",
       "5. Our land position (1 denotes 'our land').\n",
       "\n",
       "We need to answer the following questions:\n",
       "\n",
       "1. How many pixels have zero total reliability?\n",
       "2. How many pixels are predicted to have better than 50th percentile (P50) porosity and better than P50 fracture density?\n",
       "3. How many of these pixels have non-zero reliability and are on our land? These blobs are our _prospects_.\n",
       "4. Find the product of the (x, y) coordinates of the cell containing the centre of mass of the largest _prospect_ blob.\n",
       "\n",
       "For question 4, a centre of mass at (3.4, 12.6) is in the cell (3, 12) and you would respond with 3 &times; 12 = **36**.\n",
       "\n",
       "We'll consider blobs to be connected if they have directly neighbouring pixels. In example A, below, there are 3 'blobs' of one pixel each. In example B there are 2 blobs, each with three pixels.\n",
       "\n",
       "      A        B\n",
       "    1 0 1    1 1 0\n",
       "    0 1 0    1 0 1\n",
       "    0 0 0    0 1 1\n",
       "\n",
       "\n",
       "## Example\n",
       "\n",
       "Here is a dataset of smaller maps. Every row represents a map, each 3 &times 3 pixels:\n",
       "\n",
       "    example = \"\"\"0,1,0,1,2,1,0,1,0\n",
       "                 2,1,0,1,1,1,0,1,0\n",
       "                 0,1,2,1,3,1,1,2,2\n",
       "                 0,2,1,2,3,1,1,3,2\n",
       "                 1,1,1,1,1,1,0,0,0\"\"\"\n",
       "\n",
       "If we re-shaped each row to make a 3 &times; 3 map, the maps would look like:\n",
       "\n",
       "      1       2       3       4       5    <--- map number\n",
       "    0 1 0   2 1 0   0 1 2   0 2 1   1 1 1\n",
       "    1 2 1   1 1 1   1 3 1   2 3 1   1 1 1\n",
       "    0 1 0   0 1 0   1 2 2   1 3 2   0 0 0   \n",
       "\n",
       "Here's how we might answer the questions:\n",
       "\n",
       "1. There are **3** pixels with zeros in both of the reliability maps (the first two maps).\n",
       "1. The P50 values on maps 3 and 4 are 1 and 2 respectively. There are **2** pixels that are higher on both maps.\n",
       "1. Of those pixels, **1** has non-zero reliability and is on our land (map 5).\n",
       "1. The coordinates of that pixels are (1, 1) so the product of those coordinates is **1**.\n",
       "\n",
       "\n",
       "## Hints\n",
       "\n",
       "It's likely that the `scipy.ndimage.measurements` module will be useful in answering question 4. For example, if you have an array `arr` like:\n",
       "\n",
       "    0 1 1\n",
       "    0 0 0\n",
       "    1 0 0\n",
       "\n",
       "Then `scipy.ndimage.measurements.label()` will return two things: the labels and the number 2 (meaning it found 2 objects). The labels have the same shape as the original 'map':\n",
       "\n",
       "    0 1 1   <--- 1 denotes 'object 1'\n",
       "    0 0 0   <--- 0 denotes 'background', i.e. no objects\n",
       "    2 0 0   <--- 2 denotes 'object 2'\n",
       "\n",
       "Once you have labels, you can get the centre of mass of the object labelled `3` with `scipy.ndimage.measurements.center_of_mass(arr, labels, 3)`.\n",
       "\n",
       "We will use the default behaviour of the `scipy.ndimage.measurements.label()` function to decide if things are separate objects.\n",
       "\n",
       "\n",
       "## A quick reminder how this works\n",
       "\n",
       "You can retrieve your data by choosing any Python string as a **`<KEY>`** and substituting here:\n",
       "    \n",
       "    https://kata.geosci.ai/challenge/prospecting?key=<KEY>\n",
       "                                                     ^^^^^\n",
       "                                                     use your own string here\n",
       "\n",
       "To answer question 1, make a request like:\n",
       "\n",
       "    https://kata.geosci.ai/challenge/prospecting?key=<KEY>&question=1&answer=1234\n",
       "                                                     ^^^^^          ^        ^^^^\n",
       "                                                     your key       Q        your answer\n",
       "\n",
       "[Complete instructions at kata.geosci.ai](https://kata.geosci.ai/challenge)\n",
       "\n",
       "----\n",
       "\n",
       "© 2020 Agile Scientific, licensed CC-BY"
      ],
      "text/plain": [
       "<IPython.core.display.Markdown object>"
      ]
     },
     "execution_count": 1,
     "metadata": {},
     "output_type": "execute_result"
    }
   ],
   "source": [
    "import requests\n",
    "from IPython.display import Markdown\n",
    "\n",
    "url = 'https://kata.geosci.ai/challenge/prospecting'\n",
    "\n",
    "r = requests.get(url)\n",
    "print('Status', r.status_code)\n",
    "\n",
    "Markdown(r.text)"
   ]
  },
  {
   "cell_type": "markdown",
   "metadata": {},
   "source": [
    "## Load the input data"
   ]
  },
  {
   "cell_type": "code",
   "execution_count": 12,
   "metadata": {
    "collapsed": false
   },
   "outputs": [
    {
     "data": {
      "text/plain": [
       "'0,0,0,0,0,0,0,0,0,0,0,0,0,0,0,0,0,0,0,0,0,0,0,0,0,0,0,0,0,0,0,0,0,0,0,1,1,1,1,1,1,1,1,1,1,1,0,0,0,0,'"
      ]
     },
     "execution_count": 12,
     "metadata": {},
     "output_type": "execute_result"
    }
   ],
   "source": [
    "my_key = \"scibbatical\"\n",
    "\n",
    "params = {'key': my_key}\n",
    "\n",
    "r = requests.get(url, params)\n",
    "\n",
    "# Look at the first bit of the input:\n",
    "r.text[:100]"
   ]
  },
  {
   "cell_type": "markdown",
   "metadata": {},
   "source": [
    "### Parse the data\n",
    "\n",
    "Okay, the problem states that each input map is one row of the input, and that each map has 64x64 pixels (=4096). Let's look for the first '\\n', but remember that each comma also contributes to the string length :"
   ]
  },
  {
   "cell_type": "code",
   "execution_count": 16,
   "metadata": {
    "collapsed": false,
    "scrolled": true
   },
   "outputs": [
    {
     "data": {
      "text/plain": [
       "'0\\n0,0,0,0,0,1,1,2,2,2,3,3,4,4,'"
      ]
     },
     "execution_count": 16,
     "metadata": {},
     "output_type": "execute_result"
    }
   ],
   "source": [
    "r.text[8190:8220]"
   ]
  },
  {
   "cell_type": "markdown",
   "metadata": {},
   "source": [
    "There it is! Okay, now that we've verified that the '\\n' characters are used, let's split things up:"
   ]
  },
  {
   "cell_type": "code",
   "execution_count": 24,
   "metadata": {
    "collapsed": false
   },
   "outputs": [
    {
     "name": "stdout",
     "output_type": "stream",
     "text": [
      "5 maps\n",
      "8191 characters per map\n",
      "4096 digits per map\n"
     ]
    }
   ],
   "source": [
    "textmaps = r.text.split('\\n')\n",
    "\n",
    "print(len(textmaps), 'maps')\n",
    "print(len(textmaps[0]), 'characters per map')\n",
    "print(len(maps[0].split(',')),'digits per map')"
   ]
  },
  {
   "cell_type": "markdown",
   "metadata": {},
   "source": [
    "Okay! This is working. Now we need to transform the strings into numpy arrays."
   ]
  },
  {
   "cell_type": "code",
   "execution_count": 37,
   "metadata": {
    "collapsed": true
   },
   "outputs": [],
   "source": [
    "import numpy as np\n",
    "\n",
    "well_reliability = eval('np.array([' + textmaps[0] +'])').reshape(64,64)\n",
    "seis_reliability = eval('np.array([' + textmaps[1] +'])').reshape(64,64)\n",
    "poro = eval('np.array([' + textmaps[2] +'])').reshape(64,64)\n",
    "frac = eval('np.array([' + textmaps[3] +'])').reshape(64,64)\n",
    "land = eval('np.array([' + textmaps[4] +'])').reshape(64,64)"
   ]
  },
  {
   "cell_type": "markdown",
   "metadata": {},
   "source": [
    "## Question 1\n",
    "\n",
    "_How many pixels have zero total reliability?_\n",
    "\n",
    "I'm going to take this to mean that they have zero seismic and zero well reliability. This can be determined by adding these maps. Cells that still have zero value will have zero total reliability!"
   ]
  },
  {
   "cell_type": "code",
   "execution_count": 44,
   "metadata": {
    "collapsed": false
   },
   "outputs": [
    {
     "name": "stdout",
     "output_type": "stream",
     "text": [
      "There are 301 pixels with zero reliability\n"
     ]
    }
   ],
   "source": [
    "total_reliability = well_reliability + seis_reliability\n",
    "\n",
    "reliability_zeros = 4096 - np.count_nonzero(total_reliability)\n",
    "\n",
    "print('There are', reliability_zeros, 'pixels with zero reliability')"
   ]
  },
  {
   "cell_type": "markdown",
   "metadata": {},
   "source": [
    "Submit answer 1:"
   ]
  },
  {
   "cell_type": "code",
   "execution_count": 45,
   "metadata": {
    "collapsed": false
   },
   "outputs": [
    {
     "data": {
      "text/plain": [
       "'Correct'"
      ]
     },
     "execution_count": 45,
     "metadata": {},
     "output_type": "execute_result"
    }
   ],
   "source": [
    "params = {'key': my_key,   # <--- must be the same key as before\n",
    "          'question': 1,   # <--- which question you're answering\n",
    "          'answer': reliability_zeros,  # <--- your answer to that question\n",
    "         }\n",
    "\n",
    "r = requests.get(url, params)\n",
    "\n",
    "r.text"
   ]
  },
  {
   "cell_type": "markdown",
   "metadata": {},
   "source": [
    "Yeah!\n",
    "\n",
    "## Question 2\n",
    "\n",
    "_How many pixels are predicted to have better than 50th percentile (P50) porosity and better than P50 fracture density?_\n",
    "\n",
    "Okay, first I need to calculate the P50 for poro and frac."
   ]
  },
  {
   "cell_type": "code",
   "execution_count": 46,
   "metadata": {
    "collapsed": false
   },
   "outputs": [
    {
     "name": "stdout",
     "output_type": "stream",
     "text": [
      "P50 for porosity is 3.0\n",
      "P50 for fracture density is 3.0\n"
     ]
    }
   ],
   "source": [
    "poro_p50 = np.percentile(poro, 50)\n",
    "frac_p50 = np.percentile(frac, 50)\n",
    "\n",
    "print('P50 for porosity is', poro_p50)\n",
    "print('P50 for fracture density is', frac_p50)"
   ]
  },
  {
   "cell_type": "markdown",
   "metadata": {},
   "source": [
    "Okay, now find the number of cells in each map that are greater than the p50 values, then add those maps together. Count the number of times the values of the combined maps are two:"
   ]
  },
  {
   "cell_type": "code",
   "execution_count": 62,
   "metadata": {
    "collapsed": false
   },
   "outputs": [
    {
     "name": "stdout",
     "output_type": "stream",
     "text": [
      "779 cells where porosity and fracture density are greater than their respective P50 values.\n"
     ]
    }
   ],
   "source": [
    "# Create the maps where values are larger than P50\n",
    "poro_p50_flag = np.where(poro > poro_p50, np.ones_like(poro),np.zeros_like(poro))\n",
    "frac_p50_flag = np.where(frac > frac_p50, np.ones_like(frac),np.zeros_like(frac))\n",
    "\n",
    "# Combine the maps. 0 is no P50, 1 is one attribute > P50, 2 is both attributes > P50\n",
    "p50s_map = poro_p50_flag + frac_p50_flag\n",
    "\n",
    "# Count the number of cells with value 2:\n",
    "p50s_cell_count = len(np.where(p50s_map == 2)[0])\n",
    "\n",
    "print(p50s_cell_count, 'cells where porosity and fracture density are greater than their respective P50 values.')"
   ]
  },
  {
   "cell_type": "markdown",
   "metadata": {},
   "source": [
    "Submit answer 2:"
   ]
  },
  {
   "cell_type": "code",
   "execution_count": 64,
   "metadata": {
    "collapsed": false
   },
   "outputs": [
    {
     "data": {
      "text/plain": [
       "'Correct'"
      ]
     },
     "execution_count": 64,
     "metadata": {},
     "output_type": "execute_result"
    }
   ],
   "source": [
    "params = {'key': my_key,   # <--- must be the same key as before\n",
    "          'question': 2,   # <--- which question you're answering\n",
    "          'answer': p50s_cell_count,  # <--- your answer to that question\n",
    "         }\n",
    "\n",
    "r = requests.get(url, params)\n",
    "\n",
    "r.text"
   ]
  },
  {
   "cell_type": "markdown",
   "metadata": {},
   "source": [
    "## Question 3\n",
    "\n",
    "_How many of these pixels have non-zero reliability and are on our land? These blobs are our prospects._\n",
    "\n",
    "Okay, we're combining all the maps now. Make sure we have each map as a flag map and then add them up!"
   ]
  },
  {
   "cell_type": "code",
   "execution_count": 74,
   "metadata": {
    "collapsed": false
   },
   "outputs": [
    {
     "name": "stdout",
     "output_type": "stream",
     "text": [
      "430 cells are prospects.\n"
     ]
    }
   ],
   "source": [
    "# Data reliability:\n",
    "reliability_flag = np.where(total_reliability > 0,\n",
    "                            np.ones_like(total_reliability),\n",
    "                            np.zeros_like(total_reliability))\n",
    "\n",
    "# Porosity and Fracture Density flag maps already exist...\n",
    "\n",
    "# Land map is already a binary flag!\n",
    "\n",
    "# Add these maps to create a prospectivity map:\n",
    "prospectivity = reliability_flag + poro_p50_flag + frac_p50_flag + land\n",
    "\n",
    "# And then transform the prospectivity map into a prospect flag map:\n",
    "prospect_flag = np.where(prospectivity == 4,\n",
    "                         np.ones_like(prospect_flag), np.zeros_like(prospect_flag))\n",
    "\n",
    "# Now count the cells that are flagged:\n",
    "prospect_cell_count = len(np.where(prospect_flag == 1)[0])\n",
    "\n",
    "print(prospect_cell_count, 'cells are prospects.')"
   ]
  },
  {
   "cell_type": "markdown",
   "metadata": {},
   "source": [
    "Submit answer 3:"
   ]
  },
  {
   "cell_type": "code",
   "execution_count": 75,
   "metadata": {
    "collapsed": false
   },
   "outputs": [
    {
     "data": {
      "text/plain": [
       "'Correct'"
      ]
     },
     "execution_count": 75,
     "metadata": {},
     "output_type": "execute_result"
    }
   ],
   "source": [
    "params = {'key': my_key,   # <--- must be the same key as before\n",
    "          'question': 3,   # <--- which question you're answering\n",
    "          'answer': prospect_cell_count,  # <--- your answer to that question\n",
    "         }\n",
    "\n",
    "r = requests.get(url, params)\n",
    "\n",
    "r.text"
   ]
  },
  {
   "cell_type": "markdown",
   "metadata": {},
   "source": [
    "## Question 4:\n",
    "\n",
    "_Find the product of the (x, y) coordinates of the cell containing the centre of mass of the largest prospect blob._\n",
    "\n",
    "Now, this might be tricky, so Agile provides a hint:\n",
    "\n",
    "_It's likely that the scipy.ndimage.measurements module will be useful in answering question 4._\n",
    "\n",
    "_Then scipy.ndimage.measurements.label() will return two things: the labels and the number 2 (meaning it found 2 objects)._\n",
    "\n",
    "Once you have labels, you can get the centre of mass of the object labelled 3 with scipy.ndimage.measurements.center_of_mass(arr, labels, 3).\n",
    "\n",
    "Okay then..."
   ]
  },
  {
   "cell_type": "code",
   "execution_count": 77,
   "metadata": {
    "collapsed": false
   },
   "outputs": [],
   "source": [
    "import scipy.ndimage as ndi\n",
    "import matplotlib.pyplot as plt"
   ]
  },
  {
   "cell_type": "code",
   "execution_count": 86,
   "metadata": {
    "collapsed": false
   },
   "outputs": [
    {
     "data": {
      "text/plain": [
       "<matplotlib.image.AxesImage at 0x115de9278>"
      ]
     },
     "execution_count": 86,
     "metadata": {},
     "output_type": "execute_result"
    },
    {
     "data": {
      "image/png": "[encoded data removed]",
      "text/plain": [
       "<Figure size 432x288 with 1 Axes>"
      ]
     },
     "metadata": {
      "needs_background": "light"
     },
     "output_type": "display_data"
    }
   ],
   "source": [
    "plt.imshow(ndi.measurements.label(prospect_flag)[0])"
   ]
  },
  {
   "cell_type": "markdown",
   "metadata": {},
   "source": [
    "I see three prospects. The largest one appears to be number 2."
   ]
  },
  {
   "cell_type": "code",
   "execution_count": 94,
   "metadata": {
    "collapsed": false
   },
   "outputs": [
    {
     "data": {
      "text/plain": [
       "(30.801909307875896, 28.87112171837709)"
      ]
     },
     "execution_count": 94,
     "metadata": {},
     "output_type": "execute_result"
    }
   ],
   "source": [
    "prospect2_com = ndi.measurements.center_of_mass(prospect_flag,\n",
    "                                                ndi.measurements.label(prospect_flag)[0], 2 )\n",
    "\n",
    "\n",
    "prospect2_com"
   ]
  },
  {
   "cell_type": "markdown",
   "metadata": {},
   "source": [
    "Now, \"which cell contains the center of mass\"? I think we need to round these floats down to the integer values."
   ]
  },
  {
   "cell_type": "code",
   "execution_count": 102,
   "metadata": {
    "collapsed": false
   },
   "outputs": [
    {
     "name": "stdout",
     "output_type": "stream",
     "text": [
      "The product of the center of mass cells is 840\n"
     ]
    }
   ],
   "source": [
    "prospect2_com_int = np.array([prospect2_com]).astype(int)\n",
    "\n",
    "answer4 = np.prod(prospect2_com_int)\n",
    "\n",
    "print('The product of the center of mass cells is', answer4)"
   ]
  },
  {
   "cell_type": "markdown",
   "metadata": {},
   "source": [
    "Submit answer 4:"
   ]
  },
  {
   "cell_type": "code",
   "execution_count": 103,
   "metadata": {
    "collapsed": false
   },
   "outputs": [
    {
     "data": {
      "text/plain": [
       "'Correct! The next challenge is: https://kata.geosci.ai/challenge/birthquakes - good luck!'"
      ]
     },
     "execution_count": 103,
     "metadata": {},
     "output_type": "execute_result"
    }
   ],
   "source": [
    "params = {'key': my_key,   # <--- must be the same key as before\n",
    "          'question': 4,   # <--- which question you're answering\n",
    "          'answer': answer4,  # <--- your answer to that question\n",
    "         }\n",
    "\n",
    "r = requests.get(url, params)\n",
    "\n",
    "r.text"
   ]
  }
 ],
 "metadata": {
  "anaconda-cloud": {},
  "kernelspec": {
   "display_name": "Python [default]",
   "language": "python",
   "name": "python3"
  },
  "language_info": {
   "codemirror_mode": {
    "name": "ipython",
    "version": 3
   },
   "file_extension": ".py",
   "mimetype": "text/x-python",
   "name": "python",
   "nbconvert_exporter": "python",
   "pygments_lexer": "ipython3",
   "version": "3.5.5"
  }
 },
 "nbformat": 4,
 "nbformat_minor": 4
}
