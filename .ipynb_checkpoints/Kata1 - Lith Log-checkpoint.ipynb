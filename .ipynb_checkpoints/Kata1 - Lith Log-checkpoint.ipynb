{
 "cells": [
  {
   "cell_type": "markdown",
   "metadata": {},
   "source": [
    "# Kata 1 - Lith Log\n",
    "\n",
    "Agile provided a tutorial on interacting with their API to request problems and submit solutions. I'll use their code here."
   ]
  },
  {
   "cell_type": "code",
   "execution_count": 1,
   "metadata": {
    "collapsed": true
   },
   "outputs": [],
   "source": [
    "import requests\n",
    "\n",
    "url = 'https://kata.geosci.ai/challenge/sequence'  # <--- In week 2, you'll change the name.\n",
    "\n",
    "r = requests.get(url)\n",
    "#r.status_code"
   ]
  },
  {
   "cell_type": "markdown",
   "metadata": {},
   "source": [
    "What comes back is \"r\" -- a request -- that has different attributes, including .status_code and .text.\n",
    "\n",
    ".text is the description of the problem in Markdown. Let's have a look:"
   ]
  },
  {
   "cell_type": "code",
   "execution_count": 2,
   "metadata": {
    "collapsed": false
   },
   "outputs": [
    {
     "data": {
      "text/markdown": [
       "# Challenge: Sequence\n",
       "\n",
       "You have a string of lithology codes, reading from the **bottom up** of a geological section. There is a sample every metre. There are three lithologies:\n",
       "\n",
       "- **M**udstone\n",
       "- **F**ine sandstone or siltstone\n",
       "- **S**andstone\n",
       "\n",
       "The strings look like this:\n",
       "\n",
       "      ...MFFSSFSSSS...\n",
       "\n",
       "Your data, when you receive it, will be much longer than this.\n",
       "\n",
       "We need to get some geological information from this string of codes. Specifically, you need to answer 3 questions:\n",
       "\n",
       "1. What is the total thickess in metres of sandstone (`S`)? Each sample represents one metre.\n",
       "2. How many sandstone beds are there? A bed is a contiguous group of one lithology, so `MMFFF` is 2 beds, one of `M` and one of `F`.\n",
       "3. How many times does the most common *upwards* bed transition occur? Do not include transitions from a lithology to itself.\n",
       "\n",
       "Remember that the sequence is given to you from the bottom up. So an upwards transition is equivalent to a transition to the right.\n",
       "\n",
       "\n",
       "## Example\n",
       "\n",
       "Here is some example input:\n",
       "\n",
       "      SSMMFFFFFFFFSSMFFSSFSSSSFMFSSSSFFSSFFFMM\n",
       "      ^^          ^^   ^^ ^^^^   ^^^^  ^^\n",
       "\n",
       "And the answers to the 3 questions:\n",
       "\n",
       "- In this example, the total thickess of sandstone is 16 m. So the required answer is: **16**\n",
       "- There are 6 sandstone beds in the sequence (marked above). The answer is: **6**\n",
       "- The most common bed transition is `F` to `S`, which occurs 5 times. So the answer is: **5**\n",
       "\n",
       "\n",
       "## A quick reminder how this works\n",
       "\n",
       "You can retrieve your data by choosing any Python string as a **`<KEY>`** and substituting here:\n",
       "    \n",
       "    https://kata.geosci.ai/challenge/sequence?key=<KEY>\n",
       "                                                  ^^^^^\n",
       "                                                  use your own string here\n",
       "\n",
       "To answer question 1, make a request like:\n",
       "\n",
       "    https://kata.geosci.ai/challenge/sequence?key=<KEY>&question=1&answer=1234\n",
       "                                                  ^^^^^          ^        ^^^^\n",
       "                                                  your key       Q        your answer\n",
       "\n",
       "[Complete instructions at kata.geosci.ai](https://kata.geosci.ai/challenge)\n",
       "\n",
       "----\n",
       "\n",
       "© 2020 Agile Scientific, licensed CC-BY"
      ],
      "text/plain": [
       "<IPython.core.display.Markdown object>"
      ]
     },
     "execution_count": 2,
     "metadata": {},
     "output_type": "execute_result"
    }
   ],
   "source": [
    "from IPython.display import Markdown\n",
    "\n",
    "Markdown(r.text)"
   ]
  },
  {
   "cell_type": "markdown",
   "metadata": {},
   "source": [
    "## Load my input\n",
    "\n",
    "Okay, let's get an input for our problem. I'll use a \"key\":"
   ]
  },
  {
   "cell_type": "code",
   "execution_count": 3,
   "metadata": {
    "collapsed": false
   },
   "outputs": [
    {
     "data": {
      "text/plain": [
       "'SSMMFMMMMMFFFFMMMMMMMFFFFFFFFMMFSSSFFFSSSSSSMFFMMMFFFFFFSSSSFFSSMMMMFFFSSMMMMFFFFFFFSFFMMMSSFMMSFSMS'"
      ]
     },
     "execution_count": 3,
     "metadata": {},
     "output_type": "execute_result"
    }
   ],
   "source": [
    "my_key = \"scibbatical\"\n",
    "\n",
    "params = {'key': my_key}\n",
    "\n",
    "r = requests.get(url, params)\n",
    "\n",
    "# The problem states that the input is 20 000 characters long. Look at the first ones:\n",
    "r.text[:100]"
   ]
  },
  {
   "cell_type": "markdown",
   "metadata": {},
   "source": [
    "## Question 1\n",
    "\n",
    "_What is the total thickess in metres of sandstone (S)? Each sample represents one metre._\n",
    "\n",
    "Okay, this seems simple... just find the total number of S in the input, right?"
   ]
  },
  {
   "cell_type": "code",
   "execution_count": 4,
   "metadata": {
    "collapsed": false
   },
   "outputs": [
    {
     "data": {
      "text/plain": [
       "5535"
      ]
     },
     "execution_count": 4,
     "metadata": {},
     "output_type": "execute_result"
    }
   ],
   "source": [
    "log = r.text[:]\n",
    "\n",
    "# Find the length of the string when all Ms and Fs are removed\n",
    "answer1 = len(log.replace('M','').replace('F',''))\n",
    "\n",
    "answer1"
   ]
  },
  {
   "cell_type": "markdown",
   "metadata": {},
   "source": [
    "Now, submit the answer using the method suggested by Agile:"
   ]
  },
  {
   "cell_type": "code",
   "execution_count": 10,
   "metadata": {
    "collapsed": false
   },
   "outputs": [
    {
     "data": {
      "text/plain": [
       "'Correct'"
      ]
     },
     "execution_count": 10,
     "metadata": {},
     "output_type": "execute_result"
    }
   ],
   "source": [
    "params = {'key': my_key,   # <--- must be the same key as before\n",
    "          'question': 1,   # <--- which question you're answering\n",
    "          'answer': answer1,  # <--- your answer to that question\n",
    "         }\n",
    "\n",
    "r = requests.get(url, params)\n",
    "\n",
    "r.text"
   ]
  },
  {
   "cell_type": "markdown",
   "metadata": {},
   "source": [
    "Sweet as!\n",
    "\n",
    "## Question 2\n",
    "\n",
    "_How many sandstone beds are there? A bed is a contiguous group of one lithology, so MMFFF is 2 beds, one of M and one of F._\n",
    "\n",
    "Interesting! Should I construct a simple counter? Use rules to determine the relationships between the intervals as the input string is read through like magnetic tape?\n",
    "\n",
    "Or should I create a Bed class that has attributes like lith type, thickness, and associated lithology above and below?"
   ]
  },
  {
   "cell_type": "code",
   "execution_count": 5,
   "metadata": {
    "collapsed": true
   },
   "outputs": [],
   "source": [
    "class Bed:\n",
    "    \n",
    "    def __init__(self, lith, thickness, lith_below, lith_above):\n",
    "        self.lith = lith\n",
    "        self.thickness = thickness\n",
    "        self.lith_below = lith_below\n",
    "        self.lith_above = lith_above"
   ]
  },
  {
   "cell_type": "markdown",
   "metadata": {},
   "source": [
    "Create a function that looks at a lithology log and creates the next bed."
   ]
  },
  {
   "cell_type": "code",
   "execution_count": 6,
   "metadata": {
    "collapsed": false
   },
   "outputs": [],
   "source": [
    "def next_bed(log):\n",
    "    # given a log, create a Bed, then update the return\n",
    "    # the new (shorter) log\n",
    "    # NOTE: the first character denotes the lithology of the\n",
    "    # previous bed, so the second character is the first of the bed\n",
    "    # that is created.\n",
    "    \n",
    "    global bed_idx\n",
    "    \n",
    "    lithlib = 'SFM'\n",
    "    lith = log[1]\n",
    "    \n",
    "    # Find the next interface\n",
    "    next_interface = min([log[1:].find(lithlib.replace(lith,'')[0]),\n",
    "                          log[1:].find(lithlib.replace(lith,'')[1])])\n",
    "    \n",
    "    if next_interface == -1:\n",
    "        next_interface = max([log[1:].find(lithlib.replace(lith,'')[0]),\n",
    "                          log[1:].find(lithlib.replace(lith,'')[1])])\n",
    "        \n",
    "    if next_interface == -1:\n",
    "        return log\n",
    "    \n",
    "    # Create a bed\n",
    "    vars()['bed'+str(bed_idx)] = Bed(lith, next_interface,\n",
    "                                     log[0], log[next_interface+1])\n",
    "    bed_dict[bed_idx] = vars()['bed'+str(bed_idx)]\n",
    "    \n",
    "    bed_idx += 1\n",
    "    \n",
    "    return log[next_interface:]"
   ]
  },
  {
   "cell_type": "markdown",
   "metadata": {},
   "source": [
    "I'm also going to start a dictionary to keep track of all the beds being created."
   ]
  },
  {
   "cell_type": "code",
   "execution_count": 7,
   "metadata": {
    "collapsed": true
   },
   "outputs": [],
   "source": [
    "bed_dict = {}"
   ]
  },
  {
   "cell_type": "code",
   "execution_count": 8,
   "metadata": {
    "collapsed": false
   },
   "outputs": [],
   "source": [
    "bed_idx = 0\n",
    "\n",
    "# Create the first bed, then clip the log to leave just a single log value for first bed)\n",
    "\n",
    "# Define some variables\n",
    "lithlib = 'SFM'\n",
    "lith0 = log[0]\n",
    "\n",
    "# Find the first interface\n",
    "first_interface = min([log.find(lithlib.replace(lith0,'')[0]),\n",
    "                      log.find(lithlib.replace(lith0,'')[1])])\n",
    "\n",
    "# Create the first bed, then add that bed into bed_dict\n",
    "vars()['bed'+str(bed_idx)] = Bed(lith0, first_interface, 'none', log[first_interface])\n",
    "bed_dict[bed_idx] = vars()['bed'+str(bed_idx)]\n",
    "bed_idx += 1\n",
    "\n",
    "# Modify the log to turn the first bed into a single character - the\n",
    "# format expected for the next_bed function\n",
    "log_return = log[first_interface-1:]\n",
    "\n",
    "\n",
    "# Parse the rest of the log into Beds\n",
    "\n",
    "while log_return != log:\n",
    "    log = log_return[:]\n",
    "    log_return = next_bed(log)\n",
    "    \n",
    "\n",
    "# Create the last bed\n",
    "\n",
    "vars()['bed'+str(bed_idx)] = Bed(log[1], len(log)-1, log[0], 'none')\n",
    "bed_dict[bed_idx] = vars()['bed'+str(bed_idx)]"
   ]
  },
  {
   "cell_type": "markdown",
   "metadata": {},
   "source": [
    "Okay, the log has been parsed into Bed objects. Let's find out how many of those objects are sandstone lithology:"
   ]
  },
  {
   "cell_type": "code",
   "execution_count": 9,
   "metadata": {
    "collapsed": false
   },
   "outputs": [
    {
     "data": {
      "text/plain": [
       "2291"
      ]
     },
     "execution_count": 9,
     "metadata": {},
     "output_type": "execute_result"
    }
   ],
   "source": [
    "ss_beds = 0\n",
    "\n",
    "for bed in bed_dict:\n",
    "    if bed_dict[bed].lith == 'S':\n",
    "        ss_beds += 1\n",
    "\n",
    "ss_beds"
   ]
  },
  {
   "cell_type": "markdown",
   "metadata": {},
   "source": [
    "Submit the answer:"
   ]
  },
  {
   "cell_type": "code",
   "execution_count": 110,
   "metadata": {
    "collapsed": false
   },
   "outputs": [
    {
     "data": {
      "text/plain": [
       "'Correct'"
      ]
     },
     "execution_count": 110,
     "metadata": {},
     "output_type": "execute_result"
    }
   ],
   "source": [
    "params = {'key': my_key,\n",
    "          'question': 2,\n",
    "          'answer': ss_beds,\n",
    "         }\n",
    "\n",
    "r = requests.get(url, params)\n",
    "\n",
    "r.text"
   ]
  },
  {
   "cell_type": "markdown",
   "metadata": {},
   "source": [
    "Sweet as!\n",
    "\n",
    "## Question 3\n",
    "\n",
    "_How many times does the most common upwards bed transition occur? Do not include transitions from a lithology to itself._\n",
    "\n",
    "We're already set up pretty well to find this!"
   ]
  },
  {
   "cell_type": "code",
   "execution_count": 10,
   "metadata": {
    "collapsed": false
   },
   "outputs": [
    {
     "name": "stdout",
     "output_type": "stream",
     "text": [
      "SF =  994 \n",
      "SM =  1297 \n",
      "FS =  1906 \n",
      "FM =  1401 \n",
      "MS =  384 \n",
      "MF =  2313\n"
     ]
    }
   ],
   "source": [
    "# Define counters for the possible upward transitions:\n",
    "SF = 0\n",
    "SM = 0\n",
    "FS = 0\n",
    "FM = 0\n",
    "MS = 0\n",
    "MF = 0\n",
    "\n",
    "# For each Bed, find it's upward transition,\n",
    "# then increase the appropriate counter\n",
    "for bed in bed_dict:\n",
    "    transition = bed_dict[bed].lith + bed_dict[bed].lith_above\n",
    "    \n",
    "    # The final bed transitions into type \"none\"... that's not valid!\n",
    "    if transition[1:] != 'none':\n",
    "        vars()[transition] += 1\n",
    "     \n",
    "print('SF = ',SF,\n",
    "      '\\nSM = ', SM,\n",
    "      '\\nFS = ', FS,\n",
    "      '\\nFM = ', FM,\n",
    "      '\\nMS = ', MS,\n",
    "      '\\nMF = ', MF)\n",
    "    "
   ]
  },
  {
   "cell_type": "markdown",
   "metadata": {},
   "source": [
    "Looks like MF is the transition that occurs most frequently.\n",
    "\n",
    "Submit the answer for question 3:"
   ]
  },
  {
   "cell_type": "code",
   "execution_count": 111,
   "metadata": {
    "collapsed": false
   },
   "outputs": [
    {
     "data": {
      "text/plain": [
       "'Correct! The next challenge is: https://kata.geosci.ai/challenge/boreholes - good luck!'"
      ]
     },
     "execution_count": 111,
     "metadata": {},
     "output_type": "execute_result"
    }
   ],
   "source": [
    "params = {'key': my_key,   # <--- must be the same key as before\n",
    "          'question': 3,   # <--- which question you're answering\n",
    "          'answer': MF,  # <--- your answer to that question\n",
    "         }\n",
    "\n",
    "r = requests.get(url, params)\n",
    "\n",
    "r.text"
   ]
  }
 ],
 "metadata": {
  "anaconda-cloud": {},
  "kernelspec": {
   "display_name": "Python [default]",
   "language": "python",
   "name": "python3"
  },
  "language_info": {
   "codemirror_mode": {
    "name": "ipython",
    "version": 3
   },
   "file_extension": ".py",
   "mimetype": "text/x-python",
   "name": "python",
   "nbconvert_exporter": "python",
   "pygments_lexer": "ipython3",
   "version": "3.5.5"
  }
 },
 "nbformat": 4,
 "nbformat_minor": 1
}
