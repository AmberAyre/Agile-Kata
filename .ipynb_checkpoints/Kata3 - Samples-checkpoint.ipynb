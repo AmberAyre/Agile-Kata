{
 "cells": [
  {
   "cell_type": "code",
   "execution_count": 1,
   "metadata": {
    "collapsed": false
   },
   "outputs": [
    {
     "name": "stdout",
     "output_type": "stream",
     "text": [
      "Status 200\n"
     ]
    },
    {
     "data": {
      "text/markdown": [
       "# Sample names\n",
       "\n",
       "You have a set of sample names. They look like this:\n",
       "\n",
       "    001235_Ainsa_Sobrarbe_C_2016-04-20_PCx\n",
       "    ^^^^^^ ^^^^^ ^^^^^^^^ ^ ^^^^^^^^^^ ^^^\n",
       "      1      2      3     4      5      6\n",
       "\n",
       "A **valid name** consists of 6 parts separated by underscores. The parts are underlined, above. Having 6 such parts is enough to be called 'valid' (though there may be other problems, for example with the spelling or formatting of individual parts).\n",
       "\n",
       "The 6 parts are:\n",
       "\n",
       "- **Unique identifier** consisting of 6 characters.\n",
       "- **Basin name.** Note that spellings are not guaranteed to be correct.\n",
       "- **Unit or Formation name.** Note that spellings are not guaranteed to be correct.\n",
       "- **Specimen type**, either H or C (hand or core).\n",
       "- **Date**, which must be in ISO 8601 YYYY-MM-DD format to be considered correct.\n",
       "- **Preparation codes** of at least one character.\n",
       "\n",
       "We need to extract some information from this dataset.\n",
       "        \n",
       "1. How many valid sample names are there?\n",
       "2. How many valid samples were taken in the Ainsa basin? Include records with misspelt basin names.\n",
       "3. What's the longest period of days with no valid samples taken in Ainsa?\n",
       "\n",
       "If looking for misspellings, we'll assume that any word starting and ending in the same letters, but with the middle letters scrambled, is the same word. So 'Anisa' is a misspelling of 'Ainsa', but 'Aimsa' is not. We'll also assume that the spelling with the most occurrences is the correct spelling.\n",
       "\n",
       "\n",
       "## Example\n",
       "\n",
       "Here's some sample data:\n",
       "\n",
       "    001235_Ainsa_Sobrarbe_C_2016-04-20_PCx\n",
       "    001236_Ainsa_Sobrarbe_H_2016-04-21_P\n",
       "    001237_Anisa_Sobrarbe_H_2016-04-29_TCx\n",
       "    001238_Sorbas_Gochar_2017-06-03_PxM\n",
       "    001238_Sorbas_Gochar_C_2017-06-03_PxM\n",
       "    001240_SORBAS_Gochar_C_2017-06-03_PxM\n",
       "\n",
       "Let's answer the 3 questions for this sample dataset:\n",
       "\n",
       "- There are **5** valid names (and 1 invalid one, with no specimen type).\n",
       "- The Ainsa Basin appears in **3** sample names (including 1 misspelling).\n",
       "- There is a **7** day period with no samples taken, between 21 April and 29 April.\n",
       "\n",
       "\n",
       "## Hints\n",
       "\n",
       "It's likely that the `datetime` library will be useful in answering question 3. In particular, this code is useful:\n",
       "\n",
       "    from datetime import datetime\n",
       "    datetime.fromisoformat('2016-07-03')\n",
       "    \n",
       "If that command fails on a date, then you should consider the date format incorrect and ignore that record.\n",
       "\n",
       "\n",
       "## A quick reminder how this works\n",
       "\n",
       "You can retrieve your data by choosing any Python string as a **`<KEY>`** and substituting here:\n",
       "    \n",
       "    https://kata.geosci.ai/challenge/sample-names?key=<KEY>\n",
       "                                                      ^^^^^\n",
       "                                                      use your own string here\n",
       "\n",
       "To answer question 1, make a request like:\n",
       "\n",
       "    https://kata.geosci.ai/challenge/sample-names?key=<KEY>&question=1&answer=1234\n",
       "                                                      ^^^^^          ^        ^^^^\n",
       "                                                      your key       Q        your answer\n",
       "\n",
       "[Complete instructions at kata.geosci.ai](https://kata.geosci.ai/challenge)\n",
       "\n",
       "----\n",
       "\n",
       "© 2020 Agile Scientific, licensed CC-BY"
      ],
      "text/plain": [
       "<IPython.core.display.Markdown object>"
      ]
     },
     "execution_count": 1,
     "metadata": {},
     "output_type": "execute_result"
    }
   ],
   "source": [
    "import requests\n",
    "from IPython.display import Markdown\n",
    "\n",
    "url = 'https://kata.geosci.ai/challenge/sample-names'\n",
    "\n",
    "r = requests.get(url)\n",
    "print('Status', r.status_code)\n",
    "\n",
    "Markdown(r.text)"
   ]
  },
  {
   "cell_type": "code",
   "execution_count": null,
   "metadata": {
    "collapsed": true
   },
   "outputs": [],
   "source": []
  }
 ],
 "metadata": {
  "anaconda-cloud": {},
  "kernelspec": {
   "display_name": "Python [default]",
   "language": "python",
   "name": "python3"
  },
  "language_info": {
   "codemirror_mode": {
    "name": "ipython",
    "version": 3
   },
   "file_extension": ".py",
   "mimetype": "text/x-python",
   "name": "python",
   "nbconvert_exporter": "python",
   "pygments_lexer": "ipython3",
   "version": "3.5.5"
  }
 },
 "nbformat": 4,
 "nbformat_minor": 1
}
