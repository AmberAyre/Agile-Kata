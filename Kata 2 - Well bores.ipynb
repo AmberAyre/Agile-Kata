{
 "cells": [
  {
   "cell_type": "code",
   "execution_count": 3,
   "metadata": {
    "collapsed": false
   },
   "outputs": [
    {
     "name": "stdout",
     "output_type": "stream",
     "text": [
      "Status 200\n"
     ]
    },
    {
     "data": {
      "text/markdown": [
       "# Boreholes\n",
       "\n",
       "You have a list of boreholes. Each one has an (x, y) location. The locations are given as a Python string, and look like this:\n",
       "\n",
       "    ..., (12.1, 34.3), (56.5, 78.7), (90.9, 12.1),...\n",
       "    \n",
       "Your data, when you receive it, will be longer than this.\n",
       "    \n",
       "We're going to analyse these locations. We need the answers to the following questions:\n",
       "        \n",
       "1. How many boreholes are there? We'll call this number _n_.\n",
       "2. What's the distance, **to the nearest metre** between the first two boreholes in the list?\n",
       "3. What is the mean straight-line distance between all pairs of boreholes **to the nearest metre**? Call this _m_.\n",
       "4. There is a clump of boreholes. How many boreholes are in the clump? (A borehole is defined to be in a clump if the mean distance to its nearest _n_ / 5 neighbours is _m_ / 4 or less.)\n",
       "\n",
       "Please note that all your answers must be integers. If you get a float for an answer, round it.\n",
       "\n",
       "\n",
       "## Example\n",
       "\n",
       "Here are the locations of some boreholes:\n",
       "\n",
       "      (1, 4), (5, 4), (9, 3), (2, 8), (6, 4), (9, 9), (5, 5), (4, 3), (4, 5), (2, 1)\n",
       "      \n",
       "If we plot them, they look like this:\n",
       "\n",
       "    y\n",
       "    ^\n",
       "    9 - - - - - - - - - 0\n",
       "    8 - - 0 - - - - - - -\n",
       "    7 - - - - - - - - - -\n",
       "    6 - - - - - - - - - -\n",
       "    5 - - - - 0 0 - - - -\n",
       "    4 - 0 - - - 0 0 - - -\n",
       "    3 - - - - 0 - - - - 0\n",
       "    2 - - - - - - - - - -\n",
       "    1 - - 0 - - - - - - -\n",
       "    0 - - - - - - - - - -\n",
       "      0 1 2 3 4 5 6 7 8 9 > x\n",
       "    \n",
       "Here's how we'd answer the questions for this small dataset:\n",
       "\n",
       "- In this example, there are **10** wells (marked `0` on the plot above).\n",
       "- The distance between the first two boreholes in the list, (1, 4) and (5, 4), is **4**.\n",
       "- The mean distance between boreholes is 4.58... which to the nearest metre is **5**.\n",
       "- There are **4** wells in the clump. See below.\n",
       "\n",
       "Wells in the clump are marked `X` here (the borehole marked `O` does not meet the criterion):\n",
       "\n",
       "    y\n",
       "    ^\n",
       "    9 - - - - - - - - - 0\n",
       "    8 - - 0 - - - - - - -\n",
       "    7 - - - - - - - - - -\n",
       "    6 - - - - - - - - - -\n",
       "    5 - - - - X X - - - -\n",
       "    4 - 0 - - - X X - - -\n",
       "    3 - - - - O - - - - 0\n",
       "    2 - - - - - - - - - -\n",
       "    1 - - 0 - - - - - - -\n",
       "    0 - - - - - - - - - -\n",
       "      0 1 2 3 4 5 6 7 8 9 > x\n",
       "\n",
       "\n",
       "## A quick reminder how this works\n",
       "\n",
       "You can retrieve your data by choosing any Python string as a **`<KEY>`** and substituting here:\n",
       "    \n",
       "    https://kata.geosci.ai/challenge/boreholes?key=<KEY>\n",
       "                                                   ^^^^^\n",
       "                                                   use your own string here\n",
       "\n",
       "To answer question 1, make a request like:\n",
       "\n",
       "    https://kata.geosci.ai/challenge/boreholes?key=<KEY>&question=1&answer=1234\n",
       "                                                   ^^^^^          ^        ^^^^\n",
       "                                                   your key       Q        your answer\n",
       "\n",
       "[Complete instructions at kata.geosci.ai](https://kata.geosci.ai/challenge)\n",
       "\n",
       "----\n",
       "\n",
       "© 2020 Agile Scientific, licensed CC-BY"
      ],
      "text/plain": [
       "<IPython.core.display.Markdown object>"
      ]
     },
     "execution_count": 3,
     "metadata": {},
     "output_type": "execute_result"
    }
   ],
   "source": [
    "import requests\n",
    "from IPython.display import Markdown\n",
    "\n",
    "url = 'https://kata.geosci.ai/challenge/boreholes'\n",
    "\n",
    "r = requests.get(url)\n",
    "print('Status', r.status_code)\n",
    "\n",
    "Markdown(r.text)"
   ]
  },
  {
   "cell_type": "markdown",
   "metadata": {},
   "source": [
    "## Load my input\n",
    "\n",
    "Okay, let's get an input for our problem. I'll use a \"key\":"
   ]
  },
  {
   "cell_type": "code",
   "execution_count": 54,
   "metadata": {
    "collapsed": false
   },
   "outputs": [
    {
     "data": {
      "text/plain": [
       "'(16736.45, 10471.65), (18443.86, 47.41), (10702.08, 18033.28), (15015.61, 22452.92), (2537.61, 12254'"
      ]
     },
     "execution_count": 54,
     "metadata": {},
     "output_type": "execute_result"
    }
   ],
   "source": [
    "my_key = \"scibbatical\"\n",
    "\n",
    "params = {'key': my_key}\n",
    "\n",
    "r = requests.get(url, params)\n",
    "\n",
    "# Look at the first bit of the input:\n",
    "r.text[:100]"
   ]
  },
  {
   "cell_type": "markdown",
   "metadata": {
    "collapsed": true
   },
   "source": [
    "### Parse the input \n",
    "\n",
    "We need to parse the input into something useful.\n",
    "\n",
    "Parse the string into something like a csv, then read it into a DataFrame"
   ]
  },
  {
   "cell_type": "code",
   "execution_count": 5,
   "metadata": {
    "collapsed": false
   },
   "outputs": [],
   "source": [
    "import pandas as pd"
   ]
  },
  {
   "cell_type": "code",
   "execution_count": 60,
   "metadata": {
    "collapsed": false,
    "scrolled": true
   },
   "outputs": [
    {
     "name": "stdout",
     "output_type": "stream",
     "text": [
      "16736.45, 10471.65\n",
      "18443.86, 47.41\n",
      "10702.08, 18033.28\n",
      "15015.61, 22452.92\n",
      "2537.61, 12254.59\n",
      "451.38, 7\n"
     ]
    }
   ],
   "source": [
    "# Eliminate the open-bracket, replace the close-bracket, ',', and the space with a new line:\n",
    "interim = r.text.replace('(','').replace('), ','\\n').replace(')','')\n",
    "\n",
    "print(interim[:100])"
   ]
  },
  {
   "cell_type": "code",
   "execution_count": 61,
   "metadata": {
    "collapsed": false
   },
   "outputs": [
    {
     "data": {
      "text/plain": [
       "array([['16736.45', '10471.65'],\n",
       "       ['18443.86', '47.41'],\n",
       "       ['10702.08', '18033.28'],\n",
       "       ...,\n",
       "       ['24203.54', '2405.98'],\n",
       "       ['15373.42', '12704.85'],\n",
       "       ['13172.82', '12181.38']], dtype=object)"
      ]
     },
     "execution_count": 61,
     "metadata": {},
     "output_type": "execute_result"
    }
   ],
   "source": [
    "# Read the new string line-by-line, split each line at the ',' and use it to define a DataFrame\n",
    "locs = pd.DataFrame([x.split(', ') for x in interim.split('\\n')])\n",
    "\n",
    "# Great!\n",
    "\n",
    "# But the cells are filled with strings, see?\n",
    "locs.iloc[:-5].values"
   ]
  },
  {
   "cell_type": "code",
   "execution_count": 67,
   "metadata": {
    "collapsed": false
   },
   "outputs": [
    {
     "data": {
      "text/plain": [
       "array([[16736.45, 10471.65],\n",
       "       [18443.86,    47.41],\n",
       "       [10702.08, 18033.28],\n",
       "       ...,\n",
       "       [24203.54,  2405.98],\n",
       "       [15373.42, 12704.85],\n",
       "       [13172.82, 12181.38]])"
      ]
     },
     "execution_count": 67,
     "metadata": {},
     "output_type": "execute_result"
    }
   ],
   "source": [
    "# So convert to float...\n",
    "locs = locs.astype(float)\n",
    "\n",
    "locs.iloc[:-5].values"
   ]
  },
  {
   "cell_type": "code",
   "execution_count": 68,
   "metadata": {
    "collapsed": false,
    "scrolled": true
   },
   "outputs": [
    {
     "data": {
      "text/html": [
       "<div>\n",
       "<table border=\"1\" class=\"dataframe\">\n",
       "  <thead>\n",
       "    <tr style=\"text-align: right;\">\n",
       "      <th></th>\n",
       "      <th>0</th>\n",
       "      <th>1</th>\n",
       "    </tr>\n",
       "  </thead>\n",
       "  <tbody>\n",
       "    <tr>\n",
       "      <th>0</th>\n",
       "      <td>16736.45</td>\n",
       "      <td>10471.65</td>\n",
       "    </tr>\n",
       "    <tr>\n",
       "      <th>1</th>\n",
       "      <td>18443.86</td>\n",
       "      <td>47.41</td>\n",
       "    </tr>\n",
       "    <tr>\n",
       "      <th>2</th>\n",
       "      <td>10702.08</td>\n",
       "      <td>18033.28</td>\n",
       "    </tr>\n",
       "    <tr>\n",
       "      <th>3</th>\n",
       "      <td>15015.61</td>\n",
       "      <td>22452.92</td>\n",
       "    </tr>\n",
       "    <tr>\n",
       "      <th>4</th>\n",
       "      <td>2537.61</td>\n",
       "      <td>12254.59</td>\n",
       "    </tr>\n",
       "  </tbody>\n",
       "</table>\n",
       "</div>"
      ],
      "text/plain": [
       "          0         1\n",
       "0  16736.45  10471.65\n",
       "1  18443.86     47.41\n",
       "2  10702.08  18033.28\n",
       "3  15015.61  22452.92\n",
       "4   2537.61  12254.59"
      ]
     },
     "execution_count": 68,
     "metadata": {},
     "output_type": "execute_result"
    }
   ],
   "source": [
    "locs.head()"
   ]
  },
  {
   "cell_type": "markdown",
   "metadata": {},
   "source": [
    "## Question 1\n",
    "\n",
    "_How many boreholes are there? We'll call this number n._"
   ]
  },
  {
   "cell_type": "markdown",
   "metadata": {},
   "source": [
    "The number of wells is the number of lines in the dataframe."
   ]
  },
  {
   "cell_type": "code",
   "execution_count": 20,
   "metadata": {
    "collapsed": false
   },
   "outputs": [
    {
     "name": "stdout",
     "output_type": "stream",
     "text": [
      "There are 600 wells.\n"
     ]
    }
   ],
   "source": [
    "n = locs.shape[0]\n",
    "\n",
    "print('There are', str(locs.shape[0]), 'wells.')"
   ]
  },
  {
   "cell_type": "markdown",
   "metadata": {},
   "source": [
    "Submit the answer:"
   ]
  },
  {
   "cell_type": "code",
   "execution_count": 21,
   "metadata": {
    "collapsed": false
   },
   "outputs": [
    {
     "data": {
      "text/plain": [
       "'Correct'"
      ]
     },
     "execution_count": 21,
     "metadata": {},
     "output_type": "execute_result"
    }
   ],
   "source": [
    "params = {'key': my_key,   # <--- must be the same key as before\n",
    "          'question': 1,   # <--- which question you're answering\n",
    "          'answer': n,  # <--- your answer to that question\n",
    "         }\n",
    "\n",
    "r = requests.get(url, params)\n",
    "\n",
    "r.text"
   ]
  },
  {
   "cell_type": "markdown",
   "metadata": {},
   "source": [
    "Bingo!\n",
    "\n",
    "## Question 2\n",
    "\n",
    "_What's the distance, to the nearest metre between the first two boreholes in the list?_\n",
    "\n",
    "There's a numpy function that calculates the distance: numpy.linalg.norm(a-b)"
   ]
  },
  {
   "cell_type": "code",
   "execution_count": 22,
   "metadata": {
    "collapsed": true
   },
   "outputs": [],
   "source": [
    "import numpy as np"
   ]
  },
  {
   "cell_type": "code",
   "execution_count": 69,
   "metadata": {
    "collapsed": false
   },
   "outputs": [
    {
     "data": {
      "text/plain": [
       "10563.14481987727"
      ]
     },
     "execution_count": 69,
     "metadata": {},
     "output_type": "execute_result"
    }
   ],
   "source": [
    "dist = np.linalg.norm(locs.iloc[0]-locs.iloc[1])\n",
    "dist"
   ]
  },
  {
   "cell_type": "markdown",
   "metadata": {},
   "source": [
    "Okay, so that works, but I think I'll package this as a function so I can just pass index numbers instead of .iloc[]:"
   ]
  },
  {
   "cell_type": "code",
   "execution_count": 70,
   "metadata": {
    "collapsed": true
   },
   "outputs": [],
   "source": [
    "def idist(a,b):\n",
    "    global locs\n",
    "    \n",
    "    return np.linalg.norm(locs.iloc[a]-locs.iloc[b])"
   ]
  },
  {
   "cell_type": "code",
   "execution_count": 71,
   "metadata": {
    "collapsed": false
   },
   "outputs": [
    {
     "data": {
      "text/plain": [
       "10563.14481987727"
      ]
     },
     "execution_count": 71,
     "metadata": {},
     "output_type": "execute_result"
    }
   ],
   "source": [
    "idist(0,1)"
   ]
  },
  {
   "cell_type": "markdown",
   "metadata": {},
   "source": [
    "Great, it works."
   ]
  },
  {
   "cell_type": "code",
   "execution_count": 76,
   "metadata": {
    "collapsed": true
   },
   "outputs": [],
   "source": [
    "answer2 = int(round(idist(0,1),0))"
   ]
  },
  {
   "cell_type": "markdown",
   "metadata": {},
   "source": [
    "Submit answer 2:"
   ]
  },
  {
   "cell_type": "code",
   "execution_count": 78,
   "metadata": {
    "collapsed": false
   },
   "outputs": [
    {
     "data": {
      "text/plain": [
       "'Correct'"
      ]
     },
     "execution_count": 78,
     "metadata": {},
     "output_type": "execute_result"
    }
   ],
   "source": [
    "params = {'key': my_key,   # <--- must be the same key as before\n",
    "          'question': 2,   # <--- which question you're answering\n",
    "          'answer': answer2,  # <--- your answer to that question\n",
    "         }\n",
    "\n",
    "r = requests.get(url, params)\n",
    "\n",
    "r.text"
   ]
  },
  {
   "cell_type": "markdown",
   "metadata": {},
   "source": [
    "Bingo!\n",
    "\n",
    "## Question 3\n",
    "\n",
    "_What is the mean straight-line distance between all pairs of boreholes to the nearest metre? Call this m._\n",
    "\n",
    "Okay, so I could populate a 600x600 matrix with the distance values. Each distance would appear twice, but taking the mean of all values would be equivalent. The diagonal values would be zero if calculated, but these values would have to be ignored. Might be easier to define those as nans..."
   ]
  },
  {
   "cell_type": "code",
   "execution_count": 89,
   "metadata": {
    "collapsed": false
   },
   "outputs": [
    {
     "data": {
      "text/plain": [
       "(600, 600)"
      ]
     },
     "execution_count": 89,
     "metadata": {},
     "output_type": "execute_result"
    }
   ],
   "source": [
    "# Define a nan matrix to hold distance values\n",
    "dist = np.empty((n,n))\n",
    "\n",
    "# Fill it with np.nans\n",
    "dist[:] = np.nan\n",
    "\n",
    "dist.shape"
   ]
  },
  {
   "cell_type": "markdown",
   "metadata": {},
   "source": [
    "Fill dist with norm values. Leave self-distances as nan..."
   ]
  },
  {
   "cell_type": "code",
   "execution_count": 90,
   "metadata": {
    "collapsed": false
   },
   "outputs": [],
   "source": [
    "for i in range(n):\n",
    "    for j in range (n):\n",
    "        if i != j:\n",
    "            dist[i,j] = idist(i,j)"
   ]
  },
  {
   "cell_type": "markdown",
   "metadata": {},
   "source": [
    "Ugh, that was slow. Still workable for our 600 wells though!"
   ]
  },
  {
   "cell_type": "code",
   "execution_count": 91,
   "metadata": {
    "collapsed": false
   },
   "outputs": [
    {
     "data": {
      "text/plain": [
       "array([[           nan, 10563.14481988,  9674.28909811, 12104.21914534,\n",
       "        14310.34354546],\n",
       "       [10563.14481988,            nan, 19581.28385028, 22666.26957447,\n",
       "        20050.53696575],\n",
       "       [ 9674.28909811, 19581.28385028,            nan,  6175.73953389,\n",
       "        10002.59108916],\n",
       "       [12104.21914534, 22666.26957447,  6175.73953389,            nan,\n",
       "        16115.4093584 ],\n",
       "       [14310.34354546, 20050.53696575, 10002.59108916, 16115.4093584 ,\n",
       "                   nan]])"
      ]
     },
     "execution_count": 91,
     "metadata": {},
     "output_type": "execute_result"
    }
   ],
   "source": [
    "# Check some values:\n",
    "dist[:5,:5]"
   ]
  },
  {
   "cell_type": "markdown",
   "metadata": {},
   "source": [
    "Looks like the diagonal nans are honored.\n",
    "\n",
    "The mean distance can be calculated while ignoring the nans:"
   ]
  },
  {
   "cell_type": "code",
   "execution_count": 93,
   "metadata": {
    "collapsed": false
   },
   "outputs": [
    {
     "data": {
      "text/plain": [
       "11707"
      ]
     },
     "execution_count": 93,
     "metadata": {},
     "output_type": "execute_result"
    }
   ],
   "source": [
    "m = int(round(np.nanmean(dist),0))\n",
    "\n",
    "m"
   ]
  },
  {
   "cell_type": "markdown",
   "metadata": {},
   "source": [
    "Submit answer 3:"
   ]
  },
  {
   "cell_type": "code",
   "execution_count": 95,
   "metadata": {
    "collapsed": false
   },
   "outputs": [
    {
     "data": {
      "text/plain": [
       "'Correct'"
      ]
     },
     "execution_count": 95,
     "metadata": {},
     "output_type": "execute_result"
    }
   ],
   "source": [
    "params = {'key': my_key,   # <--- must be the same key as before\n",
    "          'question': 3,   # <--- which question you're answering\n",
    "          'answer': m,  # <--- your answer to that question\n",
    "         }\n",
    "\n",
    "r = requests.get(url, params)\n",
    "\n",
    "r.text"
   ]
  },
  {
   "cell_type": "markdown",
   "metadata": {},
   "source": [
    "Bingo!\n",
    "\n",
    "## Question 4\n",
    "\n",
    "_There is a clump of boreholes. How many boreholes are in the clump? (A borehole is defined to be in a clump if the mean distance to its nearest n / 5 neighbours is m / 4 or less.)_\n",
    "\n",
    "Okay, I think I'll just loop through all wells and test the criteria given. If the well passes the criteria, it'll get flagged."
   ]
  },
  {
   "cell_type": "code",
   "execution_count": 126,
   "metadata": {
    "collapsed": false
   },
   "outputs": [
    {
     "name": "stderr",
     "output_type": "stream",
     "text": [
      "/Users/Galloway/anaconda/lib/python3.5/site-packages/pandas/core/indexing.py:132: SettingWithCopyWarning: \n",
      "A value is trying to be set on a copy of a slice from a DataFrame\n",
      "\n",
      "See the caveats in the documentation: http://pandas.pydata.org/pandas-docs/stable/indexing.html#indexing-view-versus-copy\n",
      "  self._setitem_with_indexer(indexer, value)\n"
     ]
    }
   ],
   "source": [
    "# Let's add a column to the locs DataFrame that acts as a binary flag for clump wells:\n",
    "locs['clump'] = np.zeros((n,1)).astype(int)\n",
    "\n",
    "for i in range(n):\n",
    "    if np.mean(np.sort(dist[i])[:n//5]) <= m/4:\n",
    "               locs['clump'].iloc[i] = 1"
   ]
  },
  {
   "cell_type": "markdown",
   "metadata": {},
   "source": [
    "That also took a little too long. Meh.\n",
    "\n",
    "Since each clump well is flagged by a 1, the sum of the 1s is the number of wells in a clump! Find the sum:"
   ]
  },
  {
   "cell_type": "code",
   "execution_count": 128,
   "metadata": {
    "collapsed": false
   },
   "outputs": [
    {
     "data": {
      "text/plain": [
       "137"
      ]
     },
     "execution_count": 128,
     "metadata": {},
     "output_type": "execute_result"
    }
   ],
   "source": [
    "answer4 = sum(locs['clump'])\n",
    "\n",
    "answer4"
   ]
  },
  {
   "cell_type": "markdown",
   "metadata": {},
   "source": [
    "Submit answer 4:"
   ]
  },
  {
   "cell_type": "code",
   "execution_count": 129,
   "metadata": {
    "collapsed": false
   },
   "outputs": [
    {
     "data": {
      "text/plain": [
       "'Correct! The next challenge is: https://kata.geosci.ai/challenge/sample-names - good luck!'"
      ]
     },
     "execution_count": 129,
     "metadata": {},
     "output_type": "execute_result"
    }
   ],
   "source": [
    "\n",
    "params = {'key': my_key,   # <--- must be the same key as before\n",
    "          'question': 4,   # <--- which question you're answering\n",
    "          'answer': answer4,  # <--- your answer to that question\n",
    "         }\n",
    "\n",
    "r = requests.get(url, params)\n",
    "\n",
    "r.text"
   ]
  }
 ],
 "metadata": {
  "anaconda-cloud": {},
  "kernelspec": {
   "display_name": "Python [default]",
   "language": "python",
   "name": "python3"
  },
  "language_info": {
   "codemirror_mode": {
    "name": "ipython",
    "version": 3
   },
   "file_extension": ".py",
   "mimetype": "text/x-python",
   "name": "python",
   "nbconvert_exporter": "python",
   "pygments_lexer": "ipython3",
   "version": "3.5.5"
  }
 },
 "nbformat": 4,
 "nbformat_minor": 1
}
