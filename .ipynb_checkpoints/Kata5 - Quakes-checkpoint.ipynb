{
 "cells": [
  {
   "cell_type": "code",
   "execution_count": 1,
   "metadata": {
    "collapsed": false
   },
   "outputs": [
    {
     "name": "stdout",
     "output_type": "stream",
     "text": [
      "Status 200\n"
     ]
    },
    {
     "data": {
      "text/markdown": [
       "# Birthquakes\n",
       "\n",
       "We are going to look at earthquakes, on your birthdate. Birthquakes!\n",
       "\n",
       "We will also be implementing the haversine formula for determining the distance between two ponts on the earth's surface.\n",
       "\n",
       "This challenge is a bit different from the previous ones. You can use any old string for your key, as usual, but if you use a date, you'll get data for that date. For example:\n",
       "\n",
       "      url = 'https://kata.geosci.ai/challenge/birthquakes'\n",
       "      params = {'key': '1980-06-30'}  # <-- The key can be a date.\n",
       "      r = requests.get(url, params)\n",
       "\n",
       "Your challenge input is now `r.text`. There is a header row containing the names of the columns, plus a number of data rows or 'records'. Each row has 13 columns, and represents the data for a single earthquake.\n",
       "\n",
       "You need to answer the following questions:\n",
       "\n",
       "1. How many records (i.e. earthquakes) are there?\n",
       "2. What is the depth **in metres** of the earthquake with the largest **Magnitude**?\n",
       "3. What is the great circle distance **to the nearest km**, as given by the haversine formula, between the epicentres of the two **largest** earthquakes, as measured by magnitude?\n",
       "4. Consider all pairs of events. How many pairs are within 100 km of each other?\n",
       "\n",
       "Note that because we're asking about epicentres, so you don't need to worry about depth when calculating great circle distances.\n",
       "\n",
       "For Question 4, only count unique pairs. For example, inthe diagram below there are 15 pairs of points altogether, of which there are 7 pairs with a mutual distance of <100 km here &mdash; 1 pair on the left and 6 on the right:\n",
       "\n",
       "      \n",
       "      x                  x\n",
       "                            x\n",
       "         x              x  x\n",
       "            ==========\n",
       "              100 km\n",
       "\n",
       "\n",
       "## Haversine formula\n",
       "\n",
       "There are several formulas for computing [great circle distance](https://en.wikipedia.org/wiki/Great-circle_distance) on a sphere. The simplest accurate one is the haversine formula, which is described here.\n",
       "\n",
       "Given two points with (_latitude_, _longitude_), we'll denote point 1 with $(\\varphi_1, \\lambda_1)$ and point 2 with $(\\varphi_2, \\lambda_2)$. Then distance _d_ is related to radius _r_ by:\n",
       "\n",
       "$$   d  = 2r \\arcsin\\left(\\sqrt{\\sin^2\\left(\\frac{\\varphi_2 - \\varphi_1}{2}\\right) + \\cos(\\varphi_1) \\cos(\\varphi_2)\\sin^2\\left(\\frac{\\lambda_2 - \\lambda_1}{2}\\right)}\\right)$$\n",
       "\n",
       "Some hints about implementing this in Python:\n",
       "\n",
       "- Use $r = 6371\\ \\mathrm{km}$ for the radius of the earth.\n",
       "- $\\sin^2(x)$ means $\\sin(x) \\times \\sin(x)$.\n",
       "- Both the `math` module and NumPy have the functions `sin()`, `cos()`; these functions expect radians, so an angle in degrees must be converted to radians with `radians()` before giving it to the function.\n",
       "- The arcsine function in `math` is called `asin()`; in NumPy it's `arcsin()`.\n",
       "- You should get the following results from your function:\n",
       "  - The distance **to the nearest km** from (0, 0) to (0, 1) is 111 km.\n",
       "  - The distance **to the nearest km** from (0, 2.35) to (90, 2.35) is 10008 km. [(Why?)](https://en.wikipedia.org/wiki/History_of_the_metre)\n",
       "  - The distance **to the nearest km** from (44.65, -63.58) to (53.73, -1.86) is 4448 km.\n",
       "\n",
       "\n",
       "## A quick reminder how this works\n",
       "\n",
       "You can retrieve your data by choosing any date (or any old Python string to choose a random date) as a **`<KEY>`** and substituting here:\n",
       "    \n",
       "    https://kata.geosci.ai/challenge/birthquakes?key=<KEY>\n",
       "                                                     ^^^^^\n",
       "                                                     you can use a date, e.g. 2001-01-01\n",
       "\n",
       "To answer question 1, make a request like:\n",
       "\n",
       "    https://kata.geosci.ai/challenge/birthquakes?key=<KEY>&question=1&answer=123\n",
       "                                                     ^^^^^          ^        ^^^\n",
       "                                                     your key       Q        your answer\n",
       "\n",
       "[Complete instructions at kata.geosci.ai](https://kata.geosci.ai/challenge)\n",
       "\n",
       "----\n",
       "\n",
       "© 2020 Agile Scientific, licensed CC-BY"
      ],
      "text/plain": [
       "<IPython.core.display.Markdown object>"
      ]
     },
     "execution_count": 1,
     "metadata": {},
     "output_type": "execute_result"
    }
   ],
   "source": [
    "import requests\n",
    "from IPython.display import Markdown\n",
    "\n",
    "url = 'https://kata.geosci.ai/challenge/birthquakes'\n",
    "\n",
    "r = requests.get(url)\n",
    "print('Status', r.status_code)\n",
    "\n",
    "Markdown(r.text)"
   ]
  },
  {
   "cell_type": "markdown",
   "metadata": {},
   "source": [
    "## Load the input data"
   ]
  },
  {
   "cell_type": "code",
   "execution_count": 2,
   "metadata": {
    "collapsed": false
   },
   "outputs": [
    {
     "data": {
      "text/plain": [
       "'#EventID|Time|Latitude|Longitude|Depth/km|Author|Catalog|Contributor|ContributorID|MagType|Magnitude'"
      ]
     },
     "execution_count": 2,
     "metadata": {},
     "output_type": "execute_result"
    }
   ],
   "source": [
    "my_key = \"scibbatical\"\n",
    "\n",
    "params = {'key': my_key}\n",
    "\n",
    "r = requests.get(url, params)\n",
    "\n",
    "# Look at the first bit of the input:\n",
    "r.text[:100]"
   ]
  },
  {
   "cell_type": "code",
   "execution_count": null,
   "metadata": {
    "collapsed": true
   },
   "outputs": [],
   "source": []
  },
  {
   "cell_type": "code",
   "execution_count": null,
   "metadata": {
    "collapsed": true
   },
   "outputs": [],
   "source": []
  },
  {
   "cell_type": "code",
   "execution_count": null,
   "metadata": {
    "collapsed": true
   },
   "outputs": [],
   "source": []
  },
  {
   "cell_type": "code",
   "execution_count": null,
   "metadata": {
    "collapsed": true
   },
   "outputs": [],
   "source": []
  },
  {
   "cell_type": "code",
   "execution_count": null,
   "metadata": {
    "collapsed": true
   },
   "outputs": [],
   "source": []
  },
  {
   "cell_type": "code",
   "execution_count": null,
   "metadata": {
    "collapsed": true
   },
   "outputs": [],
   "source": []
  },
  {
   "cell_type": "code",
   "execution_count": null,
   "metadata": {
    "collapsed": true
   },
   "outputs": [],
   "source": []
  },
  {
   "cell_type": "code",
   "execution_count": null,
   "metadata": {
    "collapsed": true
   },
   "outputs": [],
   "source": []
  },
  {
   "cell_type": "markdown",
   "metadata": {},
   "source": [
    "Submit an answer:"
   ]
  },
  {
   "cell_type": "code",
   "execution_count": null,
   "metadata": {
    "collapsed": true
   },
   "outputs": [],
   "source": [
    "params = {'key': my_key,   # <--- must be the same key as before\n",
    "          'question': 1,   # <--- which question you're answering\n",
    "          'answer': reliability_zeros,  # <--- your answer to that question\n",
    "         }\n",
    "\n",
    "r = requests.get(url, params)\n",
    "\n",
    "r.text"
   ]
  }
 ],
 "metadata": {
  "anaconda-cloud": {},
  "kernelspec": {
   "display_name": "Python [conda env:agile-kata]",
   "language": "python",
   "name": "conda-env-agile-kata-py"
  },
  "language_info": {
   "codemirror_mode": {
    "name": "ipython",
    "version": 3
   },
   "file_extension": ".py",
   "mimetype": "text/x-python",
   "name": "python",
   "nbconvert_exporter": "python",
   "pygments_lexer": "ipython3",
   "version": "3.5.6"
  }
 },
 "nbformat": 4,
 "nbformat_minor": 1
}
