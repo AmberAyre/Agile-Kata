{
 "cells": [
  {
   "cell_type": "code",
   "execution_count": 1,
   "metadata": {
    "collapsed": false,
    "scrolled": false
   },
   "outputs": [
    {
     "name": "stdout",
     "output_type": "stream",
     "text": [
      "Status 200\n"
     ]
    },
    {
     "data": {
      "text/markdown": [
       "# Sample names\n",
       "\n",
       "You have a set of sample names. They look like this:\n",
       "\n",
       "    001235_Ainsa_Sobrarbe_C_2016-04-20_PCx\n",
       "    ^^^^^^ ^^^^^ ^^^^^^^^ ^ ^^^^^^^^^^ ^^^\n",
       "      1      2      3     4      5      6\n",
       "\n",
       "A **valid name** consists of 6 parts separated by underscores. The parts are underlined, above. Having 6 such parts is enough to be called 'valid' (though there may be other problems, for example with the spelling or formatting of individual parts).\n",
       "\n",
       "The 6 parts are:\n",
       "\n",
       "- **Unique identifier** consisting of 6 characters.\n",
       "- **Basin name.** Note that spellings are not guaranteed to be correct.\n",
       "- **Unit or Formation name.** Note that spellings are not guaranteed to be correct.\n",
       "- **Specimen type**, either H or C (hand or core).\n",
       "- **Date**, which must be in ISO 8601 YYYY-MM-DD format to be considered correct.\n",
       "- **Preparation codes** of at least one character.\n",
       "\n",
       "We need to extract some information from this dataset.\n",
       "        \n",
       "1. How many valid sample names are there?\n",
       "2. How many valid samples were taken in the Ainsa basin? Include records with misspelt basin names.\n",
       "3. What's the longest period of days with no valid samples taken in Ainsa?\n",
       "\n",
       "If looking for misspellings, we'll assume that any word starting and ending in the same letters, but with the middle letters scrambled, is the same word. So 'Anisa' is a misspelling of 'Ainsa', but 'Aimsa' is not. We'll also assume that the spelling with the most occurrences is the correct spelling.\n",
       "\n",
       "\n",
       "## Example\n",
       "\n",
       "Here's some sample data:\n",
       "\n",
       "    001235_Ainsa_Sobrarbe_C_2016-04-20_PCx\n",
       "    001236_Ainsa_Sobrarbe_H_2016-04-21_P\n",
       "    001237_Anisa_Sobrarbe_H_2016-04-29_TCx\n",
       "    001238_Sorbas_Gochar_2017-06-03_PxM\n",
       "    001238_Sorbas_Gochar_C_2017-06-03_PxM\n",
       "    001240_SORBAS_Gochar_C_2017-06-03_PxM\n",
       "\n",
       "Let's answer the 3 questions for this sample dataset:\n",
       "\n",
       "- There are **5** valid names (and 1 invalid one, with no specimen type).\n",
       "- The Ainsa Basin appears in **3** sample names (including 1 misspelling).\n",
       "- There is a **7** day period with no samples taken, between 21 April and 29 April.\n",
       "\n",
       "\n",
       "## Hints\n",
       "\n",
       "It's likely that the `datetime` library will be useful in answering question 3. In particular, this code is useful:\n",
       "\n",
       "    from datetime import datetime\n",
       "    datetime.fromisoformat('2016-07-03')\n",
       "    \n",
       "If that command fails on a date, then you should consider the date format incorrect and ignore that record.\n",
       "\n",
       "\n",
       "## A quick reminder how this works\n",
       "\n",
       "You can retrieve your data by choosing any Python string as a **`<KEY>`** and substituting here:\n",
       "    \n",
       "    https://kata.geosci.ai/challenge/sample-names?key=<KEY>\n",
       "                                                      ^^^^^\n",
       "                                                      use your own string here\n",
       "\n",
       "To answer question 1, make a request like:\n",
       "\n",
       "    https://kata.geosci.ai/challenge/sample-names?key=<KEY>&question=1&answer=1234\n",
       "                                                      ^^^^^          ^        ^^^^\n",
       "                                                      your key       Q        your answer\n",
       "\n",
       "[Complete instructions at kata.geosci.ai](https://kata.geosci.ai/challenge)\n",
       "\n",
       "----\n",
       "\n",
       "© 2020 Agile Scientific, licensed CC-BY"
      ],
      "text/plain": [
       "<IPython.core.display.Markdown object>"
      ]
     },
     "execution_count": 1,
     "metadata": {},
     "output_type": "execute_result"
    }
   ],
   "source": [
    "import requests\n",
    "from IPython.display import Markdown\n",
    "\n",
    "url = 'https://kata.geosci.ai/challenge/sample-names'\n",
    "\n",
    "r = requests.get(url)\n",
    "print('Status', r.status_code)\n",
    "\n",
    "Markdown(r.text)"
   ]
  },
  {
   "cell_type": "markdown",
   "metadata": {},
   "source": [
    "## Load my input"
   ]
  },
  {
   "cell_type": "code",
   "execution_count": 2,
   "metadata": {
    "collapsed": false
   },
   "outputs": [
    {
     "data": {
      "text/plain": [
       "'000055_Sorbas_Yesaers_C_2000-01-01_xM\\n000057_Sorbas_Yesares_H_2000-01-01_PTM\\n000058_Sorbas_Yesares_H'"
      ]
     },
     "execution_count": 2,
     "metadata": {},
     "output_type": "execute_result"
    }
   ],
   "source": [
    "my_key = \"scibbatical\"\n",
    "\n",
    "params = {'key': my_key}\n",
    "\n",
    "r = requests.get(url, params)\n",
    "\n",
    "# Look at the first bit of the input:\n",
    "r.text[:100]"
   ]
  },
  {
   "cell_type": "markdown",
   "metadata": {},
   "source": [
    "### Parse the input \n",
    "\n",
    "We need to parse the input into something useful.\n",
    "\n",
    "Parse the string into something like a csv, then read it into a DataFrame"
   ]
  },
  {
   "cell_type": "code",
   "execution_count": 4,
   "metadata": {
    "collapsed": true
   },
   "outputs": [],
   "source": [
    "import pandas as pd"
   ]
  },
  {
   "cell_type": "code",
   "execution_count": 3,
   "metadata": {
    "collapsed": false
   },
   "outputs": [
    {
     "name": "stdout",
     "output_type": "stream",
     "text": [
      "000055, Sorbas, Yesaers, C, 2000-01-01, xM\n",
      "000057, Sorbas, Yesares, H, 2000-01-01, PTM\n",
      "000058, Sorba\n"
     ]
    }
   ],
   "source": [
    "# Replace '_' with ', '\n",
    "\n",
    "interim = r.text.replace('_',', ')\n",
    "\n",
    "print(interim[:100])"
   ]
  },
  {
   "cell_type": "code",
   "execution_count": 23,
   "metadata": {
    "collapsed": false
   },
   "outputs": [
    {
     "data": {
      "text/html": [
       "<div>\n",
       "<style scoped>\n",
       "    .dataframe tbody tr th:only-of-type {\n",
       "        vertical-align: middle;\n",
       "    }\n",
       "\n",
       "    .dataframe tbody tr th {\n",
       "        vertical-align: top;\n",
       "    }\n",
       "\n",
       "    .dataframe thead th {\n",
       "        text-align: right;\n",
       "    }\n",
       "</style>\n",
       "<table border=\"1\" class=\"dataframe\">\n",
       "  <thead>\n",
       "    <tr style=\"text-align: right;\">\n",
       "      <th></th>\n",
       "      <th>id</th>\n",
       "      <th>basin</th>\n",
       "      <th>formation</th>\n",
       "      <th>type</th>\n",
       "      <th>date</th>\n",
       "      <th>prep</th>\n",
       "    </tr>\n",
       "  </thead>\n",
       "  <tbody>\n",
       "    <tr>\n",
       "      <th>0</th>\n",
       "      <td>000055</td>\n",
       "      <td>Sorbas</td>\n",
       "      <td>Yesaers</td>\n",
       "      <td>C</td>\n",
       "      <td>2000-01-01</td>\n",
       "      <td>xM</td>\n",
       "    </tr>\n",
       "    <tr>\n",
       "      <th>1</th>\n",
       "      <td>000057</td>\n",
       "      <td>Sorbas</td>\n",
       "      <td>Yesares</td>\n",
       "      <td>H</td>\n",
       "      <td>2000-01-01</td>\n",
       "      <td>PTM</td>\n",
       "    </tr>\n",
       "    <tr>\n",
       "      <th>2</th>\n",
       "      <td>000058</td>\n",
       "      <td>Sorbas</td>\n",
       "      <td>Yesares</td>\n",
       "      <td>H</td>\n",
       "      <td>2000-01-01</td>\n",
       "      <td>PTx</td>\n",
       "    </tr>\n",
       "    <tr>\n",
       "      <th>3</th>\n",
       "      <td>000059</td>\n",
       "      <td>Sorbas</td>\n",
       "      <td>Yesraes</td>\n",
       "      <td>H</td>\n",
       "      <td>01-01-00</td>\n",
       "      <td>Cx</td>\n",
       "    </tr>\n",
       "    <tr>\n",
       "      <th>4</th>\n",
       "      <td>000060</td>\n",
       "      <td>Sorbas</td>\n",
       "      <td>Yesares</td>\n",
       "      <td>2000-01-02</td>\n",
       "      <td>CxM</td>\n",
       "      <td>None</td>\n",
       "    </tr>\n",
       "  </tbody>\n",
       "</table>\n",
       "</div>"
      ],
      "text/plain": [
       "       id   basin formation        type        date  prep\n",
       "0  000055  Sorbas   Yesaers           C  2000-01-01    xM\n",
       "1  000057  Sorbas   Yesares           H  2000-01-01   PTM\n",
       "2  000058  Sorbas   Yesares           H  2000-01-01   PTx\n",
       "3  000059  Sorbas   Yesraes           H    01-01-00    Cx\n",
       "4  000060  Sorbas   Yesares  2000-01-02         CxM  None"
      ]
     },
     "execution_count": 23,
     "metadata": {},
     "output_type": "execute_result"
    }
   ],
   "source": [
    "# Read the new string line-by-line, split each line at the ',' and use it to define a DataFrame\n",
    "samps = pd.DataFrame([x.split(', ') for x in interim.split('\\n')])\n",
    "\n",
    "# Just for clarity, rename the columns:\n",
    "samps.rename(columns={0:'id', 1:'basin', 2:'formation', 3:'type', 4:'date', 5:'prep'}, inplace=True)\n",
    "\n",
    "# Great!\n",
    "samps.head()"
   ]
  },
  {
   "cell_type": "markdown",
   "metadata": {},
   "source": [
    "## Question 1\n",
    "\n",
    "_How many valid sample names are there?_\n",
    "\n",
    "The problem states that to be valid, an entry simply has to have six parts. Pandas didn't detect seven columns, so I think we can assume that the invalid samples will have less than 6 parts.\n",
    "\n",
    "For entries with less than six parts, Pandas populates the last column(s) with None (kind of equivalent to Nan. When we find the length of the string for a cell containing None, it returns Nan."
   ]
  },
  {
   "cell_type": "code",
   "execution_count": 210,
   "metadata": {
    "collapsed": false
   },
   "outputs": [
    {
     "data": {
      "text/plain": [
       "9190"
      ]
     },
     "execution_count": 210,
     "metadata": {},
     "output_type": "execute_result"
    }
   ],
   "source": [
    "samps_valid = samps.loc[samps['prep'].str.len() > 0]\n",
    "\n",
    "valid_samples = samps_valid.shape[0]\n",
    "\n",
    "valid_samples"
   ]
  },
  {
   "cell_type": "markdown",
   "metadata": {},
   "source": [
    "Sumbit answer 1"
   ]
  },
  {
   "cell_type": "code",
   "execution_count": 179,
   "metadata": {
    "collapsed": false
   },
   "outputs": [
    {
     "data": {
      "text/plain": [
       "'Correct'"
      ]
     },
     "execution_count": 179,
     "metadata": {},
     "output_type": "execute_result"
    }
   ],
   "source": [
    "params = {'key': my_key,   # <--- must be the same key as before\n",
    "          'question': 1,   # <--- which question you're answering\n",
    "          'answer': valid_samples,  # <--- your answer to that question\n",
    "         }\n",
    "\n",
    "r = requests.get(url, params)\n",
    "\n",
    "r.text"
   ]
  },
  {
   "cell_type": "markdown",
   "metadata": {},
   "source": [
    "## Question 2\n",
    "\n",
    "_How many valid samples were taken in the Ainsa basin? Include records with misspelt basin names._\n",
    "\n",
    "_If looking for misspellings, we'll assume that any word starting and ending in the same letters, but with the middle letters scrambled, is the same word. So 'Anisa' is a misspelling of 'Ainsa', but 'Aimsa' is not._\n",
    "\n",
    "Okay, let's write a function that returns true if the basin name is Ainsa or something like it:"
   ]
  },
  {
   "cell_type": "code",
   "execution_count": 202,
   "metadata": {
    "collapsed": true
   },
   "outputs": [],
   "source": [
    "from itertools import permutations\n",
    "\n",
    "def check_name(target, name):\n",
    "    \n",
    "    # put the target into lowercase\n",
    "    targetl = target.lower()\n",
    "    \n",
    "    # put the name into lowercase\n",
    "    namel = name.lower()\n",
    "    \n",
    "    # Easy if it's spelt correctly\n",
    "    if namel == targetl:\n",
    "        return True\n",
    "    \n",
    "    # Find the mis-spelled\n",
    "    \n",
    "    # if the lengths are the same\n",
    "    if len(namel) == len(targetl):\n",
    "        # if the first and last letters match\n",
    "        if namel[0] == targetl[0] and namel[-1] == targetl[-1]:\n",
    "            # if the middle letters are a permutation of the real middle letters\n",
    "            perms = [''.join(p) for p in permutations(targetl[1:-1])] # creates a list of permutations\n",
    "            if namel[1:-1] in perms:\n",
    "                return True\n",
    "            \n",
    "    # Return False otherwise\n",
    "    \n",
    "    return False"
   ]
  },
  {
   "cell_type": "code",
   "execution_count": 214,
   "metadata": {
    "collapsed": false
   },
   "outputs": [
    {
     "name": "stdout",
     "output_type": "stream",
     "text": [
      "There are 1618 samples in the Ainsa basin.\n"
     ]
    }
   ],
   "source": [
    "# Select all samples from Ainsa basin\n",
    "ainsa_samples = samps_valid.loc[[check_name('Ainsa', name) for name in samps_valid['basin']]]\n",
    "\n",
    "print('There are', str(ainsa_samples.shape[0]),'samples in the Ainsa basin.')"
   ]
  },
  {
   "cell_type": "markdown",
   "metadata": {},
   "source": [
    "Submit answer 2:"
   ]
  },
  {
   "cell_type": "code",
   "execution_count": 215,
   "metadata": {
    "collapsed": false
   },
   "outputs": [
    {
     "data": {
      "text/plain": [
       "'Correct'"
      ]
     },
     "execution_count": 215,
     "metadata": {},
     "output_type": "execute_result"
    }
   ],
   "source": [
    "params = {'key': my_key,   # <--- must be the same key as before\n",
    "          'question': 2,   # <--- which question you're answering\n",
    "          'answer': ainsa_samples.shape[0],  # <--- your answer to that question\n",
    "         }\n",
    "\n",
    "r = requests.get(url, params)\n",
    "\n",
    "r.text"
   ]
  },
  {
   "cell_type": "markdown",
   "metadata": {},
   "source": [
    "## Question 3\n",
    "\n",
    "_What's the longest period of days with no valid samples taken in Ainsa?_\n",
    "\n",
    "Now, the hint for this question suggests using datetime.fromisoformat(), but it's not available in Python <3.7, so I don't have access to it. I can write a function that I think will replicate the funtionality though."
   ]
  },
  {
   "cell_type": "code",
   "execution_count": null,
   "metadata": {
    "collapsed": true
   },
   "outputs": [],
   "source": [
    "# 5. Date must be in ISO8601 YYYY-MM-DD format to be considered correct.\n",
    "\n",
    "from datetime import datetime\n",
    "\n",
    "# Here's a function that returns True when date strings fit this format; False otherwise\n",
    "def testdate(date):\n",
    "    try:\n",
    "        datetime.strptime(date, '%Y-%m-%d')\n",
    "        return True\n",
    "    except:\n",
    "        return False\n",
    " "
   ]
  },
  {
   "cell_type": "code",
   "execution_count": 217,
   "metadata": {
    "collapsed": false
   },
   "outputs": [
    {
     "name": "stdout",
     "output_type": "stream",
     "text": [
      "78 samples removed.\n"
     ]
    }
   ],
   "source": [
    "# Bring forward only those Ainsa samples with valid dates\n",
    "# (also create this as a copy to help with future operations)\n",
    "ainsa_samples_dated = ainsa_samples.loc[[testdate(date) for date in ainsa_samples['date']]].copy()\n",
    "\n",
    "print(str(len(ainsa_samples)-len(ainsa_samples_dated)), 'samples removed.')"
   ]
  },
  {
   "cell_type": "markdown",
   "metadata": {},
   "source": [
    "Now the remaining dates must be correctly formatted.\n",
    "\n",
    "We'll want to work with these dates as datetime objects:"
   ]
  },
  {
   "cell_type": "code",
   "execution_count": 222,
   "metadata": {
    "collapsed": true
   },
   "outputs": [],
   "source": [
    "# Change the type of the date column (effectively)\n",
    "ainsa_samples_dated['date'] = pd.to_datetime(ainsa_samples_dated['date'])"
   ]
  },
  {
   "cell_type": "markdown",
   "metadata": {},
   "source": [
    "Now, we'll sort by date and then find the max change in time (in days) between consecutive samples."
   ]
  },
  {
   "cell_type": "code",
   "execution_count": 255,
   "metadata": {
    "collapsed": false
   },
   "outputs": [
    {
     "name": "stdout",
     "output_type": "stream",
     "text": [
      "Max time without samples is 299\n"
     ]
    }
   ],
   "source": [
    "# Sort\n",
    "ainsa_samples_dated.sort_values('date', inplace=True)\n",
    "\n",
    "# Now find the max difference in days\n",
    "max_delta_t = max([ainsa_samples_dated['date'].iloc[i] -\n",
    "                   ainsa_samples_dated['date'].iloc[i-1] for i in range(ainsa_samples_dated.shape[0])])\n",
    "\n",
    "# Now, the max period of days with no samples is one less than the max difference.\n",
    "print('Max time without samples is', str(max_delta_t.days-1))"
   ]
  },
  {
   "cell_type": "markdown",
   "metadata": {},
   "source": [
    "Submit answer 3:"
   ]
  },
  {
   "cell_type": "code",
   "execution_count": 256,
   "metadata": {
    "collapsed": false
   },
   "outputs": [
    {
     "data": {
      "text/plain": [
       "'Correct! The next challenge is: https://kata.geosci.ai/challenge/prospecting - good luck!'"
      ]
     },
     "execution_count": 256,
     "metadata": {},
     "output_type": "execute_result"
    }
   ],
   "source": [
    "params = {'key': my_key,   # <--- must be the same key as before\n",
    "          'question': 3,   # <--- which question you're answering\n",
    "          'answer': max_delta_t.days-1,  # <--- your answer to that question\n",
    "         }\n",
    "\n",
    "r = requests.get(url, params)\n",
    "\n",
    "r.text"
   ]
  }
 ],
 "metadata": {
  "anaconda-cloud": {},
  "kernelspec": {
   "display_name": "Python [default]",
   "language": "python",
   "name": "python3"
  },
  "language_info": {
   "codemirror_mode": {
    "name": "ipython",
    "version": 3
   },
   "file_extension": ".py",
   "mimetype": "text/x-python",
   "name": "python",
   "nbconvert_exporter": "python",
   "pygments_lexer": "ipython3",
   "version": "3.5.5"
  }
 },
 "nbformat": 4,
 "nbformat_minor": 1
}
